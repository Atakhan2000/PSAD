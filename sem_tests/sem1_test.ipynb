{
  "cells": [
    {
      "cell_type": "markdown",
      "metadata": {
        "id": "SWpzzBKX5lab"
      },
      "source": [
        "# Библиотеки"
      ]
    },
    {
      "cell_type": "code",
      "execution_count": null,
      "metadata": {
        "id": "DVElVx3w5lag"
      },
      "outputs": [],
      "source": [
        "from zlib import crc32\n",
        "\n",
        "import numpy as np\n",
        "import pandas as pd\n",
        "import scipy.stats as st\n",
        "from collections import Counter"
      ]
    },
    {
      "cell_type": "markdown",
      "metadata": {
        "id": "W10bESh65lah"
      },
      "source": [
        "# Код генерации выборки"
      ]
    },
    {
      "cell_type": "code",
      "execution_count": null,
      "metadata": {
        "id": "-dRusc3I5lai"
      },
      "outputs": [],
      "source": [
        "import re\n",
        "EMAIL_REGEX = re.compile(r\"[^@]+@phystech.edu\")\n",
        "\n",
        "def generate_dataset(code):\n",
        "    rs = np.random.RandomState(code)\n",
        "    full_data = np.concatenate(\n",
        "        [\n",
        "            rs.randint(low=0, high=251, size=5000), \n",
        "            rs.randint(low=-250, high=0, size=5000)\n",
        "        ]\n",
        "    )\n",
        "    \n",
        "    mode_cnt = st.mode(full_data)[1] \n",
        "    counts = Counter(full_data.tolist())\n",
        "    \n",
        "    to_add = []\n",
        "    for i in range(rs.randint(low = 1, high = 5)):\n",
        "        obj_to_add = int(rs.randint(low=-250, high=251, size=1))\n",
        "        to_add += [obj_to_add for _ in range(0, int(mode_cnt - counts.get(obj_to_add, 0)))]\n",
        "        \n",
        "    full_data = np.concatenate([full_data, to_add])\n",
        "    rs.shuffle(full_data)\n",
        "    return np.array(full_data)"
      ]
    },
    {
      "cell_type": "markdown",
      "metadata": {
        "id": "LXkXPYIz5laj"
      },
      "source": [
        "# Генерация выборки для вашей почты\n",
        "\n",
        "<span style=\"color:red\">\n",
        "    ВАЖНО!\n",
        "    Почта, которую укажете ниже и почта с которой Вы отправляете домашнее задание должна совпадать!\n",
        "    В момент проверки задания алгоритм генерирует выборку на основе почты из анкеты!\n",
        "</span>\n",
        "\n",
        "Внимательно проверьте почту для которой выполняется задание!"
      ]
    },
    {
      "cell_type": "code",
      "execution_count": null,
      "metadata": {
        "colab": {
          "base_uri": "https://localhost:8080/"
        },
        "id": "h8bMsPHy5laj",
        "outputId": "e49838be-9101-4426-dac5-b25a2c590afd"
      },
      "outputs": [
        {
          "name": "stdout",
          "output_type": "stream",
          "text": [
            "Enter your mail: a.alchymbaev@phystech.edu\n"
          ]
        },
        {
          "data": {
            "text/plain": [
              "{'mail': 'a.alchymbaev@phystech.edu',\n",
              " 'id': 3795091167,\n",
              " 'data': array([-39, 237,  67, ..., -53,  73,  95])}"
            ]
          },
          "execution_count": 3,
          "metadata": {},
          "output_type": "execute_result"
        }
      ],
      "source": [
        "#a.alchymbaev@phystech.edu\n",
        "\n",
        "task = dict()\n",
        "task['mail'] = input(prompt='Enter your mail: ')\n",
        "assert EMAIL_REGEX.match(task['mail']), 'Not a mail in the phystech.edu domain'\n",
        "task['id'] = crc32(task['mail'].encode('utf-8'))\n",
        "task['data'] = generate_dataset(task['id'])\n",
        "\n",
        "task"
      ]
    },
    {
      "cell_type": "markdown",
      "metadata": {
        "id": "WprDKyMv5lak"
      },
      "source": [
        "# Работа с выборкой"
      ]
    },
    {
      "cell_type": "code",
      "execution_count": null,
      "metadata": {
        "colab": {
          "base_uri": "https://localhost:8080/"
        },
        "id": "ZHQaq3RJ5lal",
        "outputId": "aa60509f-908b-4e67-ee52-0ca6dc50af6f"
      },
      "outputs": [
        {
          "data": {
            "text/plain": [
              "array([-39, 237,  67, ..., -53,  73,  95])"
            ]
          },
          "execution_count": 18,
          "metadata": {},
          "output_type": "execute_result"
        }
      ],
      "source": [
        "data = task['data']\n",
        "data"
      ]
    },
    {
      "cell_type": "markdown",
      "metadata": {
        "id": "0fAnRfaYm7-e"
      },
      "source": [
        "## Среднее"
      ]
    },
    {
      "cell_type": "code",
      "execution_count": null,
      "metadata": {
        "colab": {
          "base_uri": "https://localhost:8080/"
        },
        "id": "y3U23VKk5lal",
        "outputId": "5594913e-44ad-4efc-b733-25bf2bd22797"
      },
      "outputs": [
        {
          "data": {
            "text/plain": [
              "-0.495"
            ]
          },
          "execution_count": 27,
          "metadata": {},
          "output_type": "execute_result"
        }
      ],
      "source": [
        "##################\n",
        "# your code here #\n",
        "##################\n",
        "round(np.mean(data),3)"
      ]
    },
    {
      "cell_type": "markdown",
      "metadata": {
        "id": "gWov4G9anCsg"
      },
      "source": [
        "## Медиана"
      ]
    },
    {
      "cell_type": "code",
      "execution_count": null,
      "metadata": {
        "colab": {
          "base_uri": "https://localhost:8080/"
        },
        "id": "1Bjctcs9nFAQ",
        "outputId": "3294979e-9cc2-46d8-e369-35cfebe5ce69"
      },
      "outputs": [
        {
          "data": {
            "text/plain": [
              "-1.0"
            ]
          },
          "execution_count": 17,
          "metadata": {},
          "output_type": "execute_result"
        }
      ],
      "source": [
        "##################\n",
        "# your code here #\n",
        "##################\n",
        "np.median(data)"
      ]
    },
    {
      "cell_type": "markdown",
      "metadata": {
        "id": "phScuV9znFfK"
      },
      "source": [
        "## Дисперсия (несмещенная оценка)"
      ]
    },
    {
      "cell_type": "markdown",
      "metadata": {
        "id": "dgK4HQKzrRa2"
      },
      "source": [
        "В стандартной статистической практике ddof=1 обеспечивает несмещенную оценку дисперсии гипотетической бесконечной совокупности. ddof=0 обеспечивает оценку максимального правдоподобия дисперсии для нормально распределенных переменных."
      ]
    },
    {
      "cell_type": "code",
      "execution_count": null,
      "metadata": {
        "id": "h0Ec6fNrs-ki"
      },
      "outputs": [],
      "source": [
        "#np.std(data)"
      ]
    },
    {
      "cell_type": "code",
      "execution_count": null,
      "metadata": {
        "colab": {
          "base_uri": "https://localhost:8080/"
        },
        "id": "1TuORikNnJTh",
        "outputId": "1d79d189-3a1d-4a40-fcda-59a57950f13e"
      },
      "outputs": [
        {
          "data": {
            "text/plain": [
              "20975.873"
            ]
          },
          "execution_count": 32,
          "metadata": {},
          "output_type": "execute_result"
        }
      ],
      "source": [
        "##################\n",
        "# your code here #\n",
        "##################\n",
        "round(np.var(data,ddof=1),3) "
      ]
    },
    {
      "cell_type": "markdown",
      "metadata": {
        "id": "TLgppdpgnJv8"
      },
      "source": [
        "## Мода (максимальная)"
      ]
    },
    {
      "cell_type": "code",
      "execution_count": null,
      "metadata": {
        "colab": {
          "base_uri": "https://localhost:8080/"
        },
        "id": "P3K8bvoqs70e",
        "outputId": "fc310ba1-6450-4361-d802-be9395609ba4"
      },
      "outputs": [
        {
          "data": {
            "text/plain": [
              "ModeResult(mode=array([-227]), count=array([35]))"
            ]
          },
          "execution_count": 44,
          "metadata": {},
          "output_type": "execute_result"
        }
      ],
      "source": [
        "st.mode(data)"
      ]
    },
    {
      "cell_type": "code",
      "execution_count": null,
      "metadata": {
        "colab": {
          "base_uri": "https://localhost:8080/"
        },
        "id": "xCuDpfV8nLoM",
        "outputId": "2b342949-14ca-4f53-c7f4-b408a64cc760"
      },
      "outputs": [
        {
          "data": {
            "text/plain": [
              "-227"
            ]
          },
          "execution_count": 42,
          "metadata": {},
          "output_type": "execute_result"
        }
      ],
      "source": [
        "##################\n",
        "# your code here #\n",
        "##################\n",
        "max(st.mode(data)[0])"
      ]
    },
    {
      "cell_type": "markdown",
      "metadata": {
        "id": "bbXfzbY4nMAh"
      },
      "source": [
        "## Число мод"
      ]
    },
    {
      "cell_type": "code",
      "execution_count": null,
      "metadata": {
        "colab": {
          "base_uri": "https://localhost:8080/"
        },
        "id": "KQ8cSyEBnNtC",
        "outputId": "a5d06ad3-4273-415a-de66-72471f0b3d3e"
      },
      "outputs": [
        {
          "data": {
            "text/plain": [
              "35"
            ]
          },
          "execution_count": 47,
          "metadata": {},
          "output_type": "execute_result"
        }
      ],
      "source": [
        "##################\n",
        "# your code here #\n",
        "##################\n",
        "st.mode(data)[1][0]"
      ]
    },
    {
      "cell_type": "markdown",
      "metadata": {
        "id": "OCSUIo2YnOLG"
      },
      "source": [
        "## Порядковая статистика с номером 42"
      ]
    },
    {
      "cell_type": "code",
      "execution_count": 64,
      "metadata": {
        "colab": {
          "base_uri": "https://localhost:8080/"
        },
        "id": "PVj68V9inQKc",
        "outputId": "f92a25f4-e8a4-4097-c89d-6d12f50faf8c"
      },
      "outputs": [
        {
          "output_type": "execute_result",
          "data": {
            "text/plain": [
              "-248"
            ]
          },
          "metadata": {},
          "execution_count": 64
        }
      ],
      "source": [
        "##################\n",
        "# your code here #\n",
        "##################\n",
        "np.partition(data, 42)[:42].max()\n"
      ]
    },
    {
      "cell_type": "markdown",
      "metadata": {
        "id": "JJWuGUtEnQa4"
      },
      "source": [
        "## Медиана для неотрицательных"
      ]
    },
    {
      "cell_type": "code",
      "execution_count": 76,
      "metadata": {
        "id": "Hv3kQsgFnSHt",
        "colab": {
          "base_uri": "https://localhost:8080/"
        },
        "outputId": "046a429f-c267-4da7-e7ce-951ff896e9e7"
      },
      "outputs": [
        {
          "output_type": "execute_result",
          "data": {
            "text/plain": [
              "125.0"
            ]
          },
          "metadata": {},
          "execution_count": 76
        }
      ],
      "source": [
        "##################\n",
        "# your code here #\n",
        "##################\n",
        "np.median(data[data >= 0])\n"
      ]
    },
    {
      "cell_type": "code",
      "source": [],
      "metadata": {
        "id": "uACyF6Anwx7O"
      },
      "execution_count": null,
      "outputs": []
    }
  ],
  "metadata": {
    "colab": {
      "provenance": []
    },
    "kernelspec": {
      "display_name": "Python 3",
      "language": "python",
      "name": "python3"
    },
    "language_info": {
      "codemirror_mode": {
        "name": "ipython",
        "version": 3
      },
      "file_extension": ".py",
      "mimetype": "text/x-python",
      "name": "python",
      "nbconvert_exporter": "python",
      "pygments_lexer": "ipython3",
      "version": "3.7.3"
    }
  },
  "nbformat": 4,
  "nbformat_minor": 0
}