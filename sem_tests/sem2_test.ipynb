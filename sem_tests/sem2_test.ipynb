{
  "cells": [
    {
      "cell_type": "markdown",
      "metadata": {
        "id": "SWpzzBKX5lab"
      },
      "source": [
        "# Библиотеки"
      ]
    },
    {
      "cell_type": "code",
      "execution_count": null,
      "metadata": {
        "id": "DVElVx3w5lag"
      },
      "outputs": [],
      "source": [
        "from zlib import crc32\n",
        "\n",
        "import numpy as np\n",
        "import pandas as pd\n",
        "import scipy.stats as st\n",
        "from scipy.stats import jarque_bera\n",
        "from scipy.stats import shapiro"
      ]
    },
    {
      "cell_type": "markdown",
      "metadata": {
        "id": "W10bESh65lah"
      },
      "source": [
        "# Код генерации выборки"
      ]
    },
    {
      "cell_type": "code",
      "execution_count": null,
      "metadata": {
        "id": "-dRusc3I5lai"
      },
      "outputs": [],
      "source": [
        "import re\n",
        "EMAIL_REGEX = re.compile(r\"[^@]+@phystech.edu\")\n",
        "\n",
        "def generate_dataset(code):\n",
        "    rs = np.random.RandomState(code)\n",
        "    data = rs.randn(100)\n",
        "    noise_case = rs.randint(low = 0, high = 3)\n",
        "    max_attemp_num = 10000\n",
        "    if noise_case == 0:\n",
        "        bad = True\n",
        "        attemps = 0\n",
        "        while bad and attemps < max_attemp_num:\n",
        "            data2 = data + rs.laplace(size = (100)) * 0.25\n",
        "            p1 = jarque_bera(data2)[1]\n",
        "            p2 = shapiro(data2)[1]\n",
        "            \n",
        "            if p1 < 0.05 and p2 > 0.05:\n",
        "                bad = False\n",
        "        data = data2\n",
        "        if bad:\n",
        "            print ('could not')\n",
        "    elif noise_case == 1:\n",
        "        data = data + rs.gamma(1, size=(100))*0.5\n",
        "    elif noise_case == 2:\n",
        "        data = data +  rs.uniform()*1.5\n",
        "        \n",
        "    return data"
      ]
    },
    {
      "cell_type": "markdown",
      "metadata": {
        "id": "LXkXPYIz5laj"
      },
      "source": [
        "# Генерация выборки для вашей почты\n",
        "\n",
        "<span style=\"color:red\">\n",
        "    ВАЖНО!\n",
        "    Почта, которую укажете ниже и почта с которой Вы отправляете домашнее задание должна совпадать!\n",
        "    В момент проверки задания алгоритм генерирует выборку на основе почты из анкеты!\n",
        "</span>\n",
        "\n",
        "Внимательно проверьте почту для которой выполняется задание!"
      ]
    },
    {
      "cell_type": "code",
      "execution_count": null,
      "metadata": {
        "id": "h8bMsPHy5laj",
        "outputId": "26c1f2bb-fbe5-4763-fe21-e97ad9647330",
        "colab": {
          "base_uri": "https://localhost:8080/"
        }
      },
      "outputs": [
        {
          "name": "stdout",
          "output_type": "stream",
          "text": [
            "Enter your mail: a.alchymbaev@phystech.edu\n"
          ]
        },
        {
          "output_type": "execute_result",
          "data": {
            "text/plain": [
              "{'mail': 'a.alchymbaev@phystech.edu',\n",
              " 'id': 3795091167,\n",
              " 'data': array([ 1.95160907, -0.10228163,  3.0047909 ,  0.03171736,  0.55282711,\n",
              "         0.66835722,  0.08301235,  1.15312556,  0.0377082 ,  0.83249117,\n",
              "        -0.96790677,  0.08239102, -0.67626724,  1.37583601,  2.45779136,\n",
              "        -0.95837583, -2.24068771,  0.23619407,  3.23565166,  1.27456316,\n",
              "         0.46844486, -0.08362765,  2.53475686, -1.57371422,  0.47406564,\n",
              "        -0.43018491, -0.83061706,  1.7781319 ,  0.1933219 ,  0.13656689,\n",
              "        -0.06295347,  0.5893295 ,  0.66565871,  3.45972298,  0.07926704,\n",
              "        -0.05049302,  0.85159026,  1.45755118, -1.97620475,  0.94207144,\n",
              "         0.10258871, -0.87235946,  2.67300748,  1.17886008, -1.75850218,\n",
              "         0.17000237,  1.13356905, -0.00769967,  0.66980492,  2.74179592,\n",
              "        -0.65142877,  0.46161059,  0.58269164,  0.72787375,  1.62971309,\n",
              "         3.4914454 ,  0.66537194,  0.48931441,  0.16091939, -0.73533384,\n",
              "         0.31113818,  0.14680306,  1.21473125,  0.5732684 ,  0.01887315,\n",
              "         1.76087255, -0.47605271, -0.23440103,  1.37777524,  0.73027324,\n",
              "         0.48760717, -0.4732512 ,  2.34611924, -0.40179225,  0.87690517,\n",
              "         0.81253423,  0.38216829,  1.84100933,  1.84190308,  1.53934863,\n",
              "         0.35253574, -2.04778384,  0.36179416,  1.85126931,  1.71635622,\n",
              "        -0.50455595,  0.32884149,  1.05935764,  3.69604461,  2.03408135,\n",
              "        -0.93484588, -0.1827987 ,  0.02994029,  2.47022347,  0.09252923,\n",
              "         1.29303066,  0.29374009, -0.29685398, -0.2160365 , -0.27209362])}"
            ]
          },
          "metadata": {},
          "execution_count": 3
        }
      ],
      "source": [
        "task = dict()\n",
        "task['mail'] = input(prompt='Enter your mail: ')\n",
        "assert EMAIL_REGEX.match(task['mail']), 'Not a mail in the phystech.edu domain'\n",
        "task['id'] = crc32(task['mail'].encode('utf-8'))\n",
        "task['data'] = generate_dataset(task['id'])\n",
        "\n",
        "task"
      ]
    },
    {
      "cell_type": "markdown",
      "metadata": {
        "id": "WprDKyMv5lak"
      },
      "source": [
        "# Работа с выборкой"
      ]
    },
    {
      "cell_type": "code",
      "execution_count": null,
      "metadata": {
        "id": "ZHQaq3RJ5lal"
      },
      "outputs": [],
      "source": [
        "data = task['data']"
      ]
    },
    {
      "cell_type": "code",
      "source": [
        "from matplotlib import pyplot as plt\n",
        "\n",
        "plt.hist(data, bins=12)\n",
        "plt.show()\n"
      ],
      "metadata": {
        "id": "ynM9YeC4GJ30",
        "outputId": "1f191080-9ceb-4aee-abe7-6485b6210c65",
        "colab": {
          "base_uri": "https://localhost:8080/",
          "height": 265
        }
      },
      "execution_count": null,
      "outputs": [
        {
          "output_type": "display_data",
          "data": {
            "text/plain": [
              "<Figure size 432x288 with 1 Axes>"
            ],
            "image/png": "[encoded data removed]"
          },
          "metadata": {
            "needs_background": "light"
          }
        }
      ]
    },
    {
      "cell_type": "markdown",
      "source": [
        "## Выборочное среднее по выборке"
      ],
      "metadata": {
        "id": "uVTApKH3n9qR"
      }
    },
    {
      "cell_type": "code",
      "execution_count": null,
      "metadata": {
        "id": "y3U23VKk5lal",
        "outputId": "4861492e-3424-4a44-fa4e-35990cca5192",
        "colab": {
          "base_uri": "https://localhost:8080/"
        }
      },
      "outputs": [
        {
          "output_type": "execute_result",
          "data": {
            "text/plain": [
              "0.5930908480221985"
            ]
          },
          "metadata": {},
          "execution_count": 10
        }
      ],
      "source": [
        "##################\n",
        "# your code here #\n",
        "##################\n",
        "np.mean(data)"
      ]
    },
    {
      "cell_type": "markdown",
      "source": [
        "## Оценка стандартного отклонения (несмещенная)"
      ],
      "metadata": {
        "id": "0f0tGtoRoDwr"
      }
    },
    {
      "cell_type": "code",
      "source": [
        "##################\n",
        "# your code here #\n",
        "##################\n",
        "np.std(data, ddof=1)"
      ],
      "metadata": {
        "id": "GJHHvYy8oGKR",
        "outputId": "626b1bc2-3cf2-40b9-b086-fe4c59136a37",
        "colab": {
          "base_uri": "https://localhost:8080/"
        }
      },
      "execution_count": null,
      "outputs": [
        {
          "output_type": "execute_result",
          "data": {
            "text/plain": [
              "1.2089859939332568"
            ]
          },
          "metadata": {},
          "execution_count": 12
        }
      ]
    },
    {
      "cell_type": "markdown",
      "source": [
        "## Можно ли отклонить гипотезу о нормальности выборки, используя критерий Харке-Бера (p<=0.05)?"
      ],
      "metadata": {
        "id": "B-iCVoSOoHIu"
      }
    },
    {
      "cell_type": "code",
      "source": [
        "##################\n",
        "# your code here #\n",
        "##################\n",
        "st.jarque_bera(data) "
      ],
      "metadata": {
        "id": "fZnIqQRloLQ6",
        "outputId": "c737669f-e978-4b59-c683-059224ae7418",
        "colab": {
          "base_uri": "https://localhost:8080/"
        }
      },
      "execution_count": null,
      "outputs": [
        {
          "output_type": "execute_result",
          "data": {
            "text/plain": [
              "Jarque_beraResult(statistic=2.1994068894595045, pvalue=0.3329698130108887)"
            ]
          },
          "metadata": {},
          "execution_count": 13
        }
      ]
    },
    {
      "cell_type": "markdown",
      "source": [
        "Не отклоняем нормальность выборки"
      ],
      "metadata": {
        "id": "m_KaDiE0Fqww"
      }
    },
    {
      "cell_type": "markdown",
      "source": [
        "## Можно ли отклонить гипотезу о нормальности выборки, используя критерий Шапиро-Уилка (p<=0.05)?"
      ],
      "metadata": {
        "id": "AdwUirsioMCO"
      }
    },
    {
      "cell_type": "code",
      "source": [
        "##################\n",
        "# your code here #\n",
        "##################\n",
        "st.shapiro(data)\n"
      ],
      "metadata": {
        "id": "OwrmJ1DYoODk",
        "outputId": "3d4218f4-b182-41bc-929d-fb2e5549e6dc",
        "colab": {
          "base_uri": "https://localhost:8080/"
        }
      },
      "execution_count": null,
      "outputs": [
        {
          "output_type": "execute_result",
          "data": {
            "text/plain": [
              "ShapiroResult(statistic=0.975830614566803, pvalue=0.06267676502466202)"
            ]
          },
          "metadata": {},
          "execution_count": 14
        }
      ]
    },
    {
      "cell_type": "markdown",
      "source": [
        "Нет"
      ],
      "metadata": {
        "id": "V7k_1YuAF2AG"
      }
    },
    {
      "cell_type": "markdown",
      "source": [
        "## Сумма единиц в бинаризованной выборке"
      ],
      "metadata": {
        "id": "VdqCVxSdoPIj"
      }
    },
    {
      "cell_type": "code",
      "source": [
        "##################\n",
        "# your code here #\n",
        "##################\n",
        "binarized_data = (data >= 0).astype(int)\n",
        "ones_count = binarized_data.sum()\n",
        "ones_count"
      ],
      "metadata": {
        "id": "w0H4by7QoQ6O",
        "outputId": "cd39af97-1cf0-439a-9930-eb5c90f92a63",
        "colab": {
          "base_uri": "https://localhost:8080/"
        }
      },
      "execution_count": null,
      "outputs": [
        {
          "output_type": "execute_result",
          "data": {
            "text/plain": [
              "72"
            ]
          },
          "metadata": {},
          "execution_count": 20
        }
      ]
    },
    {
      "cell_type": "code",
      "source": [
        "plt.plot(binarized_data)\n"
      ],
      "metadata": {
        "id": "SKMHKsS3H5Pq",
        "outputId": "58d9aad6-cbed-4626-b9a4-25ccfd5d4ad1",
        "colab": {
          "base_uri": "https://localhost:8080/",
          "height": 282
        }
      },
      "execution_count": null,
      "outputs": [
        {
          "output_type": "execute_result",
          "data": {
            "text/plain": [
              "[<matplotlib.lines.Line2D at 0x7fc0715cb580>]"
            ]
          },
          "metadata": {},
          "execution_count": 27
        },
        {
          "output_type": "display_data",
          "data": {
            "text/plain": [
              "<Figure size 432x288 with 1 Axes>"
            ],
            "image/png": "[encoded data removed]"
          },
          "metadata": {
            "needs_background": "light"
          }
        }
      ]
    },
    {
      "cell_type": "markdown",
      "source": [
        "## Значение p-value для биномиального теста с двусторонней альтернативой (p0 = 0.5)"
      ],
      "metadata": {
        "id": "0fqg5hORoRko"
      }
    },
    {
      "cell_type": "code",
      "source": [
        "##################\n",
        "# your code here #\n",
        "##################\n",
        "from statsmodels.stats.proportion import binom_test\n",
        "\n",
        "n = len(binarized_data)\n",
        "p0 = 0.5\n",
        "binom_test(ones_count, n, p0, alternative='two-sided')\n",
        "#или так:\n",
        "# binom_test(ones_count, n, p0)\n"
      ],
      "metadata": {
        "id": "yHMZJMjHoTWc",
        "outputId": "f55b108a-9717-4940-f862-e916befb1bca",
        "colab": {
          "base_uri": "https://localhost:8080/"
        }
      },
      "execution_count": null,
      "outputs": [
        {
          "output_type": "execute_result",
          "data": {
            "text/plain": [
              "1.2579150016678854e-05"
            ]
          },
          "metadata": {},
          "execution_count": 28
        }
      ]
    },
    {
      "cell_type": "code",
      "source": [
        "#критерий отношения правдоподобия\n",
        "#L_0 = st.bernoulli.pmf(k=binarized_data, p=0.5)\n",
        "#L_MLE = st.bernoulli.pmf(k=binarized_data, p=(sum(binarized_data) / len(binarized_data)))\n",
        "#LR = 2 * np.log(np.prod(L_MLE / L_0))\n",
        "#LR"
      ],
      "metadata": {
        "id": "7wYrXV2KHSdI",
        "outputId": "9da16af1-1607-465a-a77f-2fafe8832fc0",
        "colab": {
          "base_uri": "https://localhost:8080/"
        }
      },
      "execution_count": null,
      "outputs": [
        {
          "output_type": "execute_result",
          "data": {
            "text/plain": [
              "20.03877262249417"
            ]
          },
          "metadata": {},
          "execution_count": 29
        }
      ]
    }
  ],
  "metadata": {
    "colab": {
      "provenance": []
    },
    "kernelspec": {
      "display_name": "Python 3",
      "language": "python",
      "name": "python3"
    },
    "language_info": {
      "codemirror_mode": {
        "name": "ipython",
        "version": 3
      },
      "file_extension": ".py",
      "mimetype": "text/x-python",
      "name": "python",
      "nbconvert_exporter": "python",
      "pygments_lexer": "ipython3",
      "version": "3.7.3"
    }
  },
  "nbformat": 4,
  "nbformat_minor": 0
}