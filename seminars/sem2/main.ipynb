{
  "cells": [
    {
      "cell_type": "markdown",
      "metadata": {
        "id": "9zcFemDJeeOL"
      },
      "source": [
        "# Проверка параметрических гипотез"
      ]
    },
    {
      "cell_type": "markdown",
      "metadata": {
        "id": "x48isurXeeOO"
      },
      "source": [
        "# Библиотеки"
      ]
    },
    {
      "cell_type": "code",
      "execution_count": 1,
      "metadata": {
        "id": "FPzzLC-EeeOP"
      },
      "outputs": [],
      "source": [
        "import numpy as np\n",
        "import pandas as pd\n",
        "import scipy.stats as st\n",
        "import seaborn as sns\n",
        "import matplotlib.pyplot as plt\n",
        "\n",
        "from statsmodels.stats.diagnostic import kstest_normal\n",
        "from statsmodels.stats.weightstats import ttest_ind\n",
        "from statsmodels.stats.weightstats import ztest\n",
        "from statsmodels.stats.proportion import binom_test\n",
        "from statsmodels.stats.proportion import proportion_confint\n",
        "from statsmodels.stats.proportion import binom_test, proportions_ztest, proportions_chisquare\n",
        "from statsmodels.distributions.empirical_distribution import ECDF\n"
      ]
    },
    {
      "cell_type": "markdown",
      "metadata": {
        "id": "Kil6jkDceeOR"
      },
      "source": [
        "# Warmup"
      ]
    },
    {
      "cell_type": "markdown",
      "metadata": {
        "id": "T0uU-p6heeOR"
      },
      "source": [
        "## Пример, Kanji, критерий 1\n",
        "\n",
        "Линия по производству пудры должна обеспечивать средний вес пудры в\n",
        "упаковке 4 грамма, заявленное стандартное отклонение — 1 грамм.\n",
        "В ходе инспекции выбрано 9 упаковок, средний вес продукта в них составляет\n",
        "4.6 грамма.\n",
        "\n",
        "$H_0$: средний вес пудры в упаковке соответствует норме.\n",
        "\n",
        "$H_1$: средний вес пудры в упаковке не соответствует норме.\n",
        "\n",
        "```p=0.0719```"
      ]
    },
    {
      "cell_type": "markdown",
      "metadata": {
        "id": "hj0kUwHzeeOR"
      },
      "source": [
        "Проверим критерий \"вручную\":\n",
        "\n",
        "$Z = \\frac{\\bar{X}-\\mu}{\\sigma/\\sqrt{n}}.$\n",
        "\n",
        "$p(Z) = 2 \\bigl(1-F(|Z|)\\bigr).$"
      ]
    },
    {
      "cell_type": "code",
      "execution_count": 2,
      "metadata": {
        "id": "MXHgP4f8eeOS"
      },
      "outputs": [],
      "source": [
        "mu = 4\n",
        "std = 1\n",
        "n = 9\n",
        "mean = 4.6"
      ]
    },
    {
      "cell_type": "code",
      "execution_count": 3,
      "metadata": {
        "id": "ZIQUqxi2eeOS",
        "colab": {
          "base_uri": "https://localhost:8080/"
        },
        "outputId": "1c0f96db-27d2-495b-e7c3-86116473cb40"
      },
      "outputs": [
        {
          "output_type": "execute_result",
          "data": {
            "text/plain": [
              "1.799999999999999"
            ]
          },
          "metadata": {},
          "execution_count": 3
        }
      ],
      "source": [
        "Z = (mean - mu)/(std/np.sqrt(n))# ваш код\n",
        "Z"
      ]
    },
    {
      "cell_type": "code",
      "execution_count": 5,
      "metadata": {
        "id": "LWJeXvUneeOS",
        "colab": {
          "base_uri": "https://localhost:8080/"
        },
        "outputId": "74686fa3-1d4b-4de8-deac-d67ee67505f5"
      },
      "outputs": [
        {
          "output_type": "execute_result",
          "data": {
            "text/plain": [
              "0.07186063822585176"
            ]
          },
          "metadata": {},
          "execution_count": 5
        }
      ],
      "source": [
        "p = 2*(1-st.distributions.norm(0,1).cdf(Z))# ваш код\n",
        "p"
      ]
    },
    {
      "cell_type": "markdown",
      "metadata": {
        "id": "pm4O-IH7eeOT"
      },
      "source": [
        "Просэмплируем похожую выборку и проверим критерий с использованием библиотеки ```statsmodels```"
      ]
    },
    {
      "cell_type": "code",
      "execution_count": 6,
      "metadata": {
        "id": "OeIdfBEreeOT",
        "colab": {
          "base_uri": "https://localhost:8080/"
        },
        "outputId": "2e68dd4e-4747-4164-8a10-8deebc3ec861"
      },
      "outputs": [
        {
          "output_type": "stream",
          "name": "stdout",
          "text": [
            "mean=5.037561230377956, std=0.7222455089229228\n"
          ]
        }
      ],
      "source": [
        "np.random.seed(42)\n",
        "\n",
        "X = np.random.randn(n) * std + mean\n",
        "print('mean={}, std={}'.format(np.mean(X), np.std(X)))"
      ]
    },
    {
      "cell_type": "code",
      "execution_count": 7,
      "metadata": {
        "id": "6cA1HosueeOU",
        "colab": {
          "base_uri": "https://localhost:8080/"
        },
        "outputId": "31595a91-4f74-4879-cfa7-eb22f970690d"
      },
      "outputs": [
        {
          "output_type": "stream",
          "name": "stdout",
          "text": [
            "Z=4.063253133913534, p=4.839349961023562e-05\n"
          ]
        }
      ],
      "source": [
        "print('Z={}, p={}'.format(*ztest(X, value=mu)))"
      ]
    },
    {
      "cell_type": "code",
      "source": [
        "print('Z={}, p={}'.format(*ztest(X, value=mu, alternative = 'larger'))) #H0 : в среднем кладут пудры <= mu "
      ],
      "metadata": {
        "colab": {
          "base_uri": "https://localhost:8080/"
        },
        "id": "XptSxfBJhY_p",
        "outputId": "530c9c62-a9f6-4e4f-9c6c-89fdb95c7cdb"
      },
      "execution_count": 9,
      "outputs": [
        {
          "output_type": "stream",
          "name": "stdout",
          "text": [
            "Z=4.063253133913534, p=2.419674980511781e-05\n"
          ]
        }
      ]
    },
    {
      "cell_type": "code",
      "source": [
        "print('Z={}, p={}'.format(*ztest(X, value=mu, alternative = 'smaller'))) #H0 : в среднем кладут пудры >= mu "
      ],
      "metadata": {
        "colab": {
          "base_uri": "https://localhost:8080/"
        },
        "id": "rzqUZi6Sg7Gp",
        "outputId": "301dced6-c793-4160-a252-294699d12260"
      },
      "execution_count": 8,
      "outputs": [
        {
          "output_type": "stream",
          "name": "stdout",
          "text": [
            "Z=4.063253133913534, p=0.9999758032501949\n"
          ]
        }
      ]
    },
    {
      "cell_type": "markdown",
      "metadata": {
        "id": "lX3booJKeeOU"
      },
      "source": [
        "# Кобзарь, задача 227\n",
        "\n",
        "Нормируемый уровень дефектных изделий в партии $p_0 = 0.05$. Среди 20 изделий\n",
        "партии проверка обнаружила 2 дефектных.\n",
        "\n",
        "$H_0$ : доля дефектных изделий в партии не выше нормы.\n",
        "\n",
        "$H_1$ : доля дефектных изделий в партии выше нормы.\n",
        "\n",
        "Для биномиального критерия ```p=0.2642```."
      ]
    },
    {
      "cell_type": "markdown",
      "metadata": {
        "id": "_eOiSszCeeOU"
      },
      "source": [
        "Проверим критерий \"вручную\":\n",
        "\n",
        "$T = \\sum X_i$\n",
        "\n",
        "$p(T) = 1 - F(T)$ "
      ]
    },
    {
      "cell_type": "code",
      "execution_count": 13,
      "metadata": {
        "id": "kcZdcBN5eeOU"
      },
      "outputs": [],
      "source": [
        "# H0: p <= p0\n",
        "# H1: p > p0\n",
        "n = 20\n",
        "p0 = 0.05\n",
        "\n",
        "T = 2 # кол-во дефектов"
      ]
    },
    {
      "cell_type": "code",
      "execution_count": 16,
      "metadata": {
        "id": "7VcfO4lNeeOU",
        "colab": {
          "base_uri": "https://localhost:8080/"
        },
        "outputId": "39c9869c-a327-4edd-c38a-ae7b4433ef2f"
      },
      "outputs": [
        {
          "output_type": "stream",
          "name": "stdout",
          "text": [
            "0.0754836737884963\n",
            "0.2641604750561498\n"
          ]
        }
      ],
      "source": [
        "p = 1 - st.distributions.binom(n, p0).cdf(T) # ваш код\n",
        "p_scipy_lib = 1 - st.distributions.binom(n, p0).cdf(T-1)\n",
        "print(p)\n",
        "print(p_scipy_lib)"
      ]
    },
    {
      "cell_type": "markdown",
      "metadata": {
        "id": "QFIFrdD9eeOV"
      },
      "source": [
        "### Проверим критерий с использованием библиотеки ```scipy```."
      ]
    },
    {
      "cell_type": "code",
      "execution_count": 12,
      "metadata": {
        "id": "w9hDdFJpeeOV",
        "colab": {
          "base_uri": "https://localhost:8080/"
        },
        "outputId": "2b965051-1565-4e46-f437-e58e20424523"
      },
      "outputs": [
        {
          "output_type": "execute_result",
          "data": {
            "text/plain": [
              "0.2641604750561498"
            ]
          },
          "metadata": {},
          "execution_count": 12
        }
      ],
      "source": [
        "st.binom_test(T, n, p0, alternative='greater')"
      ]
    },
    {
      "cell_type": "markdown",
      "metadata": {
        "id": "ocHtAcJleeOV"
      },
      "source": [
        "### Проверим критерий с использованием библиотеки  ```statsmodels```"
      ]
    },
    {
      "cell_type": "code",
      "execution_count": 17,
      "metadata": {
        "id": "s_Ohda0leeOV",
        "colab": {
          "base_uri": "https://localhost:8080/"
        },
        "outputId": "c36030b4-0ab4-4bee-9d85-1a2270461070"
      },
      "outputs": [
        {
          "output_type": "execute_result",
          "data": {
            "text/plain": [
              "0.2641604750561498"
            ]
          },
          "metadata": {},
          "execution_count": 17
        }
      ],
      "source": [
        "binom_test(T, n, p0, alternative='larger')"
      ]
    },
    {
      "cell_type": "markdown",
      "metadata": {
        "id": "4O9dzkWFeeOW"
      },
      "source": [
        "## Антиконсервативность интервалов доверия"
      ]
    },
    {
      "cell_type": "code",
      "execution_count": 20,
      "metadata": {
        "id": "4xxvHfjmeeOW"
      },
      "outputs": [],
      "source": [
        "N_exp = 100\n",
        "n = 40\n",
        "p_array =  np.arange(0.05, 0.95, 0.01)"
      ]
    },
    {
      "cell_type": "code",
      "execution_count": 21,
      "metadata": {
        "id": "rlG72n3ZeeOW",
        "colab": {
          "base_uri": "https://localhost:8080/",
          "height": 265
        },
        "outputId": "2c0b7b8b-bf1f-4de0-9383-f5939e087d20"
      },
      "outputs": [
        {
          "output_type": "display_data",
          "data": {
            "text/plain": [
              "<Figure size 432x288 with 1 Axes>"
            ],
            "image/png": "[encoded data removed]"
          },
          "metadata": {
            "needs_background": "light"
          }
        }
      ],
      "source": [
        "np.random.seed(42)\n",
        "\n",
        "plot_Y = []\n",
        "for p in p_array:\n",
        "    success = 0\n",
        "    for _ in range(N_exp):\n",
        "        X = np.random.binomial(n, p)\n",
        "        left, right = (proportion_confint(X, n))\n",
        "        if left <= p <= right:\n",
        "            success += 1.0\n",
        "    plot_Y.append(success / N_exp)\n",
        "plt.plot(p_array, plot_Y)\n",
        "plt.plot([0,1], [0.95, 0.95], ls='--')\n",
        "plt.show()"
      ]
    },
    {
      "cell_type": "code",
      "execution_count": 22,
      "metadata": {
        "id": "F59o60UaeeOW",
        "colab": {
          "base_uri": "https://localhost:8080/",
          "height": 265
        },
        "outputId": "bdefa8b7-669b-4e34-8ad4-0b8e8d02bf8c"
      },
      "outputs": [
        {
          "output_type": "display_data",
          "data": {
            "text/plain": [
              "<Figure size 432x288 with 1 Axes>"
            ],
            "image/png": "[encoded data removed]"
          },
          "metadata": {
            "needs_background": "light"
          }
        }
      ],
      "source": [
        "np.random.seed(42)\n",
        "\n",
        "plot_Y = []\n",
        "for p in p_array:\n",
        "    success = 0\n",
        "    for _ in range(N_exp):\n",
        "        X = np.random.binomial(n, p)        \n",
        "        left, right = (proportion_confint(X, n, method='beta'))\n",
        "        if left <= p <= right:\n",
        "            success += 1\n",
        "    plot_Y.append(success / N_exp)\n",
        "plt.plot(p_array, plot_Y)\n",
        "plt.plot([0,1], [0.95, 0.95], ls='--')\n",
        "plt.show()"
      ]
    },
    {
      "cell_type": "markdown",
      "metadata": {
        "id": "a11DD0HmeeOW"
      },
      "source": [
        "## Бонд, продолжение\n",
        "\n",
        "Пусть Бонд выбрал взболтанный мартини в 12 случаев из 16.\n",
        "\n",
        "Требуется:\n",
        "1. Проверить гипотезу о равнозначности мартини методами ```binom_test```, ```proportions_chisquare```, \n",
        "```proportions_ztest```.\n",
        "\n",
        "\n",
        "2. Провести симуляцию, построить зависимость pow от истинного значения p для выборок мощностью 5, 10, 20, 100, 1000 для разных методов на уровне значимости 0.05.\n",
        "\n",
        "3. Провести симуляцию, построить зависимость ошибки первого рода от проверяемого значения $p_0$ при истинном значении p=0.5 при заданой мощности выборки n=10."
      ]
    },
    {
      "cell_type": "markdown",
      "metadata": {
        "id": "e03MK6KseeOX"
      },
      "source": [
        "### Пункт 1"
      ]
    },
    {
      "cell_type": "code",
      "execution_count": 26,
      "metadata": {
        "id": "DgG1Qn79eeOX",
        "colab": {
          "base_uri": "https://localhost:8080/"
        },
        "outputId": "c3e7fd40-29d8-4e17-993f-f8402643cfab"
      },
      "outputs": [
        {
          "output_type": "execute_result",
          "data": {
            "text/plain": [
              "(0.076812744140625,\n",
              " (4.0, 0.04550026389635857, (array([[12,  4]]), array([[8., 8.]]))),\n",
              " (2.3094010767585034, 0.020921335337794014))"
            ]
          },
          "metadata": {},
          "execution_count": 26
        }
      ],
      "source": [
        "#ouput: p-value or (stat, p-value, ...)\n",
        "binom_test(12, 16, 0.5), proportions_chisquare(12,16,0.5), proportions_ztest(12,16,0.5) # ваш код"
      ]
    },
    {
      "cell_type": "markdown",
      "metadata": {
        "id": "WdfswKNKeeOX"
      },
      "source": [
        "### Пункт 2"
      ]
    },
    {
      "cell_type": "code",
      "execution_count": 40,
      "metadata": {
        "id": "Knp52rbQeeOX",
        "colab": {
          "base_uri": "https://localhost:8080/",
          "height": 280
        },
        "outputId": "f2a2f4ea-86eb-4487-f607-04e084f8a934"
      },
      "outputs": [
        {
          "output_type": "display_data",
          "data": {
            "text/plain": [
              "<Figure size 432x288 with 1 Axes>"
            ],
            "image/png": "[encoded data removed]"
          },
          "metadata": {
            "needs_background": "light"
          }
        }
      ],
      "source": [
        "np.random.seed(42)\n",
        "# ваш код\n",
        "\n",
        "def binom(x_):\n",
        "  return binom_test(x_, n, 0.5) <= 0.05\n",
        "\n",
        "def z_test(x_):\n",
        "  return proportions_ztest(x_, n, 0.5)[1] <= 0.05 \n",
        "\n",
        "def square_test(x_):\n",
        "  return proportions_chisquare(x_, n, 0.5)[1] <= 0.05 \n",
        "\n",
        "method = dict()\n",
        "method['binom'] = binom\n",
        "method['z_test'] = z_test\n",
        "method['square_test'] = square_test\n",
        "\n",
        "for label in method:\n",
        "  X = []\n",
        "  Y = []\n",
        "  n = 20 # 5, 10, 20, 100, 1000\n",
        "  for p in np.arange(0.05, 0.96, 0.05):\n",
        "      success = 0\n",
        "      for _ in range(100):\n",
        "        x_ = np.random.binomial(n,p)\n",
        "        if method[label](x_):\n",
        "          success += 1\n",
        "      X.append(p)\n",
        "      Y.append(success/100) # сколько из 100 раз правильно ответили\n",
        "  plt.plot(X,Y, label = label)\n",
        "  plt.xlabel('p_true')\n",
        "  plt.ylabel('pow')\n",
        "\n",
        "plt.legend(loc = 'best')\n",
        "plt.show()"
      ]
    },
    {
      "cell_type": "markdown",
      "metadata": {
        "id": "jjX5lsXZeeOY"
      },
      "source": [
        "### Пункт 3"
      ]
    },
    {
      "cell_type": "code",
      "execution_count": 44,
      "metadata": {
        "id": "CL5cz2XaeeOY",
        "colab": {
          "base_uri": "https://localhost:8080/",
          "height": 280
        },
        "outputId": "936be8b6-6994-40f4-cc80-d1e1e16ea645"
      },
      "outputs": [
        {
          "output_type": "display_data",
          "data": {
            "text/plain": [
              "<Figure size 432x288 with 1 Axes>"
            ],
            "image/png": "[encoded data removed]"
          },
          "metadata": {
            "needs_background": "light"
          }
        }
      ],
      "source": [
        "# TODO - solved +- \n",
        "np.random.seed(42)\n",
        "\n",
        "# ваш код()\n",
        "def binom(x_):\n",
        "  return binom_test(x_, n, 0.5) <= 0.05\n",
        "\n",
        "def z_test(x_):\n",
        "  return proportions_ztest(x_, n, 0.5)[1] <= 0.05 \n",
        "\n",
        "def square_test(x_):\n",
        "  return proportions_chisquare(x_, n, 0.5)[1] <= 0.05 \n",
        "\n",
        "method = dict()\n",
        "method['binom'] = binom\n",
        "method['z_test'] = z_test\n",
        "method['square_test'] = square_test\n",
        "\n",
        "for label in method:\n",
        "  X = []\n",
        "  Y = []\n",
        "  n = 20 # 5, 10, 20, 100, 1000\n",
        "  for p in np.arange(0.05, 0.96, 0.05):\n",
        "      success = 0\n",
        "      for _ in range(100):\n",
        "        x_ = np.random.binomial(n,0.5) # здесь вместо значений альтернативы p -> p_true\n",
        "        if method[label](x_):\n",
        "          success += 1\n",
        "      X.append(p)\n",
        "      Y.append(success/100) \n",
        "  plt.plot(X,Y, label = label)\n",
        "  plt.xlabel('p_0')\n",
        "  plt.ylabel('ошибка I рода') # ?\n",
        "\n",
        "plt.legend(loc = 'best')\n",
        "plt.show()"
      ]
    },
    {
      "cell_type": "markdown",
      "metadata": {
        "id": "ZaUhb_XJeeOY"
      },
      "source": [
        "# Эксперимент Майкельсона\n",
        "**Michelson A.A. Experimental determination of the velocity of light made at the U.S. Naval Academy, Annapolis. Astronomical Papers, 1, 109-145, 1880.**"
      ]
    },
    {
      "cell_type": "markdown",
      "metadata": {
        "id": "1-lURLf6eeOY"
      },
      "source": [
        "Опыты Майкельсона — класс физических экспериментов, исследующих зависимость скорости распространения света от направления.\n",
        "\n",
        "Проверим данные классического эксперимента Майкельсона по измерению скорости света с помощью вращающегося зеркала, 100 наблюдений на нормальность."
      ]
    },
    {
      "cell_type": "code",
      "execution_count": 48,
      "metadata": {
        "id": "LZzsM8UPeeOY"
      },
      "outputs": [],
      "source": [
        "speed = pd.read_csv('speed.txt', header=None).values[:, 0]\n"
      ]
    },
    {
      "cell_type": "markdown",
      "metadata": {
        "id": "WW-ONmySeeOY"
      },
      "source": [
        "## Гистограма распределения"
      ]
    },
    {
      "cell_type": "code",
      "execution_count": 49,
      "metadata": {
        "id": "IAIvATi-eeOZ",
        "colab": {
          "base_uri": "https://localhost:8080/",
          "height": 265
        },
        "outputId": "985fd61c-0253-4304-ddf8-71de8353c9af"
      },
      "outputs": [
        {
          "output_type": "display_data",
          "data": {
            "text/plain": [
              "<Figure size 432x288 with 1 Axes>"
            ],
            "image/png": "[encoded data removed]"
          },
          "metadata": {
            "needs_background": "light"
          }
        }
      ],
      "source": [
        "# ваш код\n",
        "plt.hist(speed)\n",
        "plt.show()"
      ]
    },
    {
      "cell_type": "code",
      "execution_count": 50,
      "metadata": {
        "id": "pQi4tFEKeeOZ",
        "colab": {
          "base_uri": "https://localhost:8080/",
          "height": 350
        },
        "outputId": "7e00d9ee-6405-43b4-f26f-c7e83ef745d9"
      },
      "outputs": [
        {
          "output_type": "stream",
          "name": "stderr",
          "text": [
            "/usr/local/lib/python3.8/dist-packages/seaborn/distributions.py:2619: FutureWarning: `distplot` is a deprecated function and will be removed in a future version. Please adapt your code to use either `displot` (a figure-level function with similar flexibility) or `kdeplot` (an axes-level function for kernel density plots).\n",
            "  warnings.warn(msg, FutureWarning)\n"
          ]
        },
        {
          "output_type": "display_data",
          "data": {
            "text/plain": [
              "<Figure size 432x288 with 1 Axes>"
            ],
            "image/png": "[encoded data removed]"
          },
          "metadata": {
            "needs_background": "light"
          }
        }
      ],
      "source": [
        "sns.distplot(speed, hist=False, label='Empirical distribution')\n",
        "x = np.arange(min(speed) - 1000, max(speed) + 1000, 1)\n",
        "plt.plot(x, st.distributions.norm(np.mean(speed), np.std(speed)).pdf(x), label='Gaussian distributiion')\n",
        "plt.legend(loc='best')\n",
        "plt.title('Pdf')\n",
        "plt.xlabel('Speed, m/s')\n",
        "plt.ylabel('Density')\n",
        "plt.xlim(np.mean(speed) - 3 * np.std(speed), np.mean(speed) + 3 * np.std(speed))\n",
        "plt.show()"
      ]
    },
    {
      "cell_type": "code",
      "execution_count": 51,
      "metadata": {
        "id": "amIVPXg-eeOZ",
        "colab": {
          "base_uri": "https://localhost:8080/",
          "height": 350
        },
        "outputId": "40ec6f83-2eed-4e44-d787-d977c009d7c9"
      },
      "outputs": [
        {
          "output_type": "stream",
          "name": "stderr",
          "text": [
            "/usr/local/lib/python3.8/dist-packages/seaborn/distributions.py:2619: FutureWarning: `distplot` is a deprecated function and will be removed in a future version. Please adapt your code to use either `displot` (a figure-level function with similar flexibility) or `kdeplot` (an axes-level function for kernel density plots).\n",
            "  warnings.warn(msg, FutureWarning)\n"
          ]
        },
        {
          "output_type": "display_data",
          "data": {
            "text/plain": [
              "<Figure size 432x288 with 1 Axes>"
            ],
            "image/png": "[encoded data removed]"
          },
          "metadata": {
            "needs_background": "light"
          }
        }
      ],
      "source": [
        "sns.distplot(speed, hist=False, kde_kws=dict(cumulative=True), label='Empirical distribution')\n",
        "x = np.arange(min(speed) - 1000, max(speed) + 1000, 1)\n",
        "plt.plot(x, st.distributions.norm(np.mean(speed), np.std(speed)).cdf(x), label='Gaussian distributiion')\n",
        "plt.legend(loc='best')\n",
        "plt.title('Cdf')\n",
        "plt.xlabel('Speed, m/s')\n",
        "plt.ylabel('Fn(x)')\n",
        "plt.xlim(np.mean(speed) - 3 * np.std(speed), np.mean(speed) + 3 * np.std(speed))\n",
        "plt.show()"
      ]
    },
    {
      "cell_type": "markdown",
      "metadata": {
        "id": "EMYj_Z0DeeOZ"
      },
      "source": [
        "## Проверка нормальности"
      ]
    },
    {
      "cell_type": "markdown",
      "metadata": {
        "id": "DBhIkNDEeeOZ"
      },
      "source": [
        "### q-q plot"
      ]
    },
    {
      "cell_type": "code",
      "execution_count": 52,
      "metadata": {
        "id": "fKdBvIHeeeOZ",
        "colab": {
          "base_uri": "https://localhost:8080/",
          "height": 295
        },
        "outputId": "8ba0ec02-5db9-426c-f051-99efe87786d9"
      },
      "outputs": [
        {
          "output_type": "display_data",
          "data": {
            "text/plain": [
              "<Figure size 432x288 with 1 Axes>"
            ],
            "image/png": "[encoded data removed]"
          },
          "metadata": {
            "needs_background": "light"
          }
        }
      ],
      "source": [
        "qq_points, qq_line =st.probplot(speed, plot=plt)\n",
        "plt.show()"
      ]
    },
    {
      "cell_type": "markdown",
      "metadata": {
        "id": "VoVxR8vdeeOa"
      },
      "source": [
        "### Критерии Колмогорова (Лиллиефорса)"
      ]
    },
    {
      "cell_type": "code",
      "execution_count": 53,
      "metadata": {
        "id": "xzieWFzueeOa",
        "colab": {
          "base_uri": "https://localhost:8080/"
        },
        "outputId": "9a26ee44-f6c5-47bf-efdb-aa3055e95d3a"
      },
      "outputs": [
        {
          "output_type": "execute_result",
          "data": {
            "text/plain": [
              "(0.08342437427409632, 0.08289042847559838)"
            ]
          },
          "metadata": {},
          "execution_count": 53
        }
      ],
      "source": [
        "kstest_normal(speed, dist='norm', pvalmethod='approx')"
      ]
    },
    {
      "cell_type": "markdown",
      "metadata": {
        "id": "GSP72zY3eeOa"
      },
      "source": [
        "### Критерий Шапиро-Уилка"
      ]
    },
    {
      "cell_type": "code",
      "execution_count": 54,
      "metadata": {
        "id": "u7n8e2NoeeOa",
        "colab": {
          "base_uri": "https://localhost:8080/"
        },
        "outputId": "dd0292cf-d31a-42b2-d0d5-61612aec8525"
      },
      "outputs": [
        {
          "output_type": "execute_result",
          "data": {
            "text/plain": [
              "ShapiroResult(statistic=0.9880793690681458, pvalue=0.5140784382820129)"
            ]
          },
          "metadata": {},
          "execution_count": 54
        }
      ],
      "source": [
        "st.shapiro(speed)"
      ]
    },
    {
      "cell_type": "markdown",
      "metadata": {
        "id": "HZYENmlGeeOa"
      },
      "source": [
        "### Критерий Харке-Бера"
      ]
    },
    {
      "cell_type": "code",
      "execution_count": 55,
      "metadata": {
        "id": "uvwOcbADeeOb",
        "colab": {
          "base_uri": "https://localhost:8080/"
        },
        "outputId": "aab96eff-179d-42f9-a27f-2f44df3807db"
      },
      "outputs": [
        {
          "output_type": "execute_result",
          "data": {
            "text/plain": [
              "Jarque_beraResult(statistic=0.29492498111997556, pvalue=0.8628948044152577)"
            ]
          },
          "metadata": {},
          "execution_count": 55
        }
      ],
      "source": [
        "st.jarque_bera(speed)"
      ]
    },
    {
      "cell_type": "markdown",
      "metadata": {
        "id": "rYwSozLBeeOb"
      },
      "source": [
        "# Разрушители легенд: тыльная сторона руки"
      ]
    },
    {
      "cell_type": "markdown",
      "metadata": {
        "id": "nOUQtxlmeeOb"
      },
      "source": [
        "## Часть 1\n",
        "В 5 серии 13 сезона передачи “Разрушители легенд” проверялась справедливость выражения “know something like the back of one’s hand”. В эксперименте принимало участие 12 испытуемых. Каждому из них были предъявлены 10 фотографий похожих рук разных людей, среди которых они должны были угадать свою.\n",
        "\n",
        "11 из 12 испытуемых выбрали свою фотографию.\n",
        "\n",
        "$H_0$: испытуемые выбирают фотографии тыльной стороны руки наугад (p=0.1).\n",
        "\n",
        "$H_1$: испытуемые выбирают фотографию тыльной стороны своей собственной руки осознанно (p>0.1).\n",
        "\n"
      ]
    },
    {
      "cell_type": "code",
      "execution_count": 56,
      "metadata": {
        "id": "q_0yWuP3eeOb"
      },
      "outputs": [],
      "source": [
        "n  = 12\n",
        "T  = 11\n",
        "p0 = 0.1\n"
      ]
    },
    {
      "cell_type": "markdown",
      "metadata": {
        "id": "jw23KYLfeeOb"
      },
      "source": [
        "### Точный биномиальный критерий:"
      ]
    },
    {
      "cell_type": "code",
      "execution_count": 57,
      "metadata": {
        "id": "fDJ47VI3eeOb",
        "colab": {
          "base_uri": "https://localhost:8080/"
        },
        "outputId": "239d4109-605b-4677-a82a-da18a5922238"
      },
      "outputs": [
        {
          "output_type": "execute_result",
          "data": {
            "text/plain": [
              "1.0900000000000006e-10"
            ]
          },
          "metadata": {},
          "execution_count": 57
        }
      ],
      "source": [
        "# ваш код\n",
        "binom_test(T, n, 0.1)"
      ]
    },
    {
      "cell_type": "markdown",
      "metadata": {
        "id": "fg9TwF3KeeOc"
      },
      "source": [
        "### Z-test"
      ]
    },
    {
      "cell_type": "code",
      "execution_count": 58,
      "metadata": {
        "id": "f7in1H_TeeOc",
        "colab": {
          "base_uri": "https://localhost:8080/"
        },
        "outputId": "63cbd468-a690-4210-852d-7a4d81960a93"
      },
      "outputs": [
        {
          "output_type": "execute_result",
          "data": {
            "text/plain": [
              "(10.235766170195031, 1.371056109091178e-24)"
            ]
          },
          "metadata": {},
          "execution_count": 58
        }
      ],
      "source": [
        "# ваш код\n",
        "proportions_ztest(T, n, 0.1)"
      ]
    },
    {
      "cell_type": "markdown",
      "metadata": {
        "id": "THzy_WhXeeOc"
      },
      "source": [
        "### Доверительный интервал Уилсона"
      ]
    },
    {
      "cell_type": "code",
      "execution_count": 59,
      "metadata": {
        "id": "iLuXAwJzeeOc",
        "colab": {
          "base_uri": "https://localhost:8080/"
        },
        "outputId": "823e5df0-26f8-4349-ca97-ad92ffe09c98"
      },
      "outputs": [
        {
          "output_type": "execute_result",
          "data": {
            "text/plain": [
              "(0.646120088858883, 0.9851349055950829)"
            ]
          },
          "metadata": {},
          "execution_count": 59
        }
      ],
      "source": [
        "proportion_confint(T, n, method='wilson')"
      ]
    },
    {
      "cell_type": "markdown",
      "metadata": {
        "id": "aAIXZO5_eeOc"
      },
      "source": [
        "### Критерий Вальда"
      ]
    },
    {
      "cell_type": "code",
      "execution_count": 63,
      "metadata": {
        "id": "FnmGARS7eeOc",
        "colab": {
          "base_uri": "https://localhost:8080/"
        },
        "outputId": "3a9d23f5-3bab-4238-d362-8af4cffbd176"
      },
      "outputs": [
        {
          "output_type": "execute_result",
          "data": {
            "text/plain": [
              "-4.641014169011439e-21"
            ]
          },
          "metadata": {},
          "execution_count": 63
        }
      ],
      "source": [
        "p_mle = T/n # theta_mle\n",
        "D_mle = 1/(-n**2/T + n**2/(n-T)) # дисперсия(theta_mle) = I^(-1)(theta_mle) \n",
        "zw = (p_mle - p0)/np.sqrt(D_mle) # ваш код\n",
        "st.distributions.norm.logcdf(zw)"
      ]
    },
    {
      "cell_type": "markdown",
      "metadata": {
        "id": "PTgIm9ceeeOd"
      },
      "source": [
        "Ожидаемый ответ: ```~-4.641*10^(-21)```"
      ]
    },
    {
      "cell_type": "markdown",
      "metadata": {
        "id": "et08uMjmeeOd"
      },
      "source": [
        "### Часть 2\n",
        "Аналогичный эксперимент был проведён с фотографиями ладоней. 7 из 12 испытуемых угадали свою фотографию.\n",
        "\n",
        "$H_0$: испытуемые выбирают фотографии ладони наугад (p=0.1).\n",
        "\n",
        "$H_1$: испытуемые выбирают фотографию своей собственной ладони осознанно (p>0.1)."
      ]
    },
    {
      "cell_type": "code",
      "execution_count": 64,
      "metadata": {
        "id": "QSOReFZueeOd"
      },
      "outputs": [],
      "source": [
        "n  = 12\n",
        "T2  = 7\n",
        "p0 = 0.1\n",
        "\n"
      ]
    },
    {
      "cell_type": "code",
      "execution_count": 65,
      "metadata": {
        "id": "dUaWvpCseeOd",
        "colab": {
          "base_uri": "https://localhost:8080/"
        },
        "outputId": "d0f9fee9-0f2e-4bee-e714-cdc8ac9efdcf"
      },
      "outputs": [
        {
          "output_type": "execute_result",
          "data": {
            "text/plain": [
              "5.0180338000000016e-05"
            ]
          },
          "metadata": {},
          "execution_count": 65
        }
      ],
      "source": [
        "binom_test(T2, n, p0, 'larger')"
      ]
    },
    {
      "cell_type": "markdown",
      "metadata": {
        "id": "GeRXMHJYeeOd"
      },
      "source": [
        "Можно ли утверждать, что тыльную сторону руки люди знают лучше, чем ладонь? Сравним результаты экспериментов.\n",
        "Поскольку это одни и те же испытуемые, выборки связные. \n",
        "\n",
        "Но информации о связности нет, поэтому мы вынуждены использовать критерии для независимых выборок. Z-критерий:"
      ]
    },
    {
      "cell_type": "code",
      "execution_count": 66,
      "metadata": {
        "id": "ZV7AN_1FeeOd",
        "colab": {
          "base_uri": "https://localhost:8080/"
        },
        "outputId": "42b11af5-ba4a-4f53-c15f-af98916c6cc7"
      },
      "outputs": [
        {
          "output_type": "execute_result",
          "data": {
            "text/plain": [
              "0.029673219395960015"
            ]
          },
          "metadata": {},
          "execution_count": 66
        }
      ],
      "source": [
        "# ваш код\n",
        "P = (T+T2)/(2*n)\n",
        "Z = (T/n - T2/n)/np.sqrt(P*(1-P)*2/n)\n",
        "1 - st.distributions.norm.cdf(Z)"
      ]
    },
    {
      "cell_type": "markdown",
      "metadata": {
        "id": "pDFK4RI3eeOd"
      },
      "source": [
        "ожидаемый ответ: ```~0.03```"
      ]
    },
    {
      "cell_type": "markdown",
      "metadata": {
        "id": "2efPJi0TeeOe"
      },
      "source": [
        "# Rats\n",
        "**Weindruch R., Walford R.L. The Retardation of Aging and Disease by Dietary Restriction. Springfield: Charles C. Thomas, 1988.**"
      ]
    },
    {
      "cell_type": "code",
      "execution_count": 70,
      "metadata": {
        "id": "_1GUK_fzeeOe",
        "colab": {
          "base_uri": "https://localhost:8080/",
          "height": 677
        },
        "outputId": "8184bccd-9209-4160-ae1d-c4db4fab1ea0"
      },
      "outputs": [
        {
          "output_type": "execute_result",
          "data": {
            "text/plain": [
              "     lifespan        diet\n",
              "174       768  ad libitum\n",
              "187       807  ad libitum\n",
              "92       1230  restricted\n",
              "64       1094  restricted\n",
              "27        871  restricted\n",
              "85       1203  restricted\n",
              "143       688  ad libitum\n",
              "164       738  ad libitum\n",
              "80       1173  restricted\n",
              "178       779  ad libitum\n",
              "46       1008  restricted\n",
              "160       732  ad libitum\n",
              "76       1149  restricted\n",
              "175       770  ad libitum\n",
              "6         389  restricted\n",
              "65       1099  restricted\n",
              "59       1070  restricted\n",
              "185       801  ad libitum\n",
              "162       735  ad libitum\n",
              "153       715  ad libitum"
            ],
            "text/html": [
              "\n",
              "  <div id=\"df-679a5cd0-5f2d-42f3-822e-0c0e4e894a9c\">\n",
              "    <div class=\"colab-df-container\">\n",
              "      <div>\n",
              "<style scoped>\n",
              "    .dataframe tbody tr th:only-of-type {\n",
              "        vertical-align: middle;\n",
              "    }\n",
              "\n",
              "    .dataframe tbody tr th {\n",
              "        vertical-align: top;\n",
              "    }\n",
              "\n",
              "    .dataframe thead th {\n",
              "        text-align: right;\n",
              "    }\n",
              "</style>\n",
              "<table border=\"1\" class=\"dataframe\">\n",
              "  <thead>\n",
              "    <tr style=\"text-align: right;\">\n",
              "      <th></th>\n",
              "      <th>lifespan</th>\n",
              "      <th>diet</th>\n",
              "    </tr>\n",
              "  </thead>\n",
              "  <tbody>\n",
              "    <tr>\n",
              "      <th>174</th>\n",
              "      <td>768</td>\n",
              "      <td>ad libitum</td>\n",
              "    </tr>\n",
              "    <tr>\n",
              "      <th>187</th>\n",
              "      <td>807</td>\n",
              "      <td>ad libitum</td>\n",
              "    </tr>\n",
              "    <tr>\n",
              "      <th>92</th>\n",
              "      <td>1230</td>\n",
              "      <td>restricted</td>\n",
              "    </tr>\n",
              "    <tr>\n",
              "      <th>64</th>\n",
              "      <td>1094</td>\n",
              "      <td>restricted</td>\n",
              "    </tr>\n",
              "    <tr>\n",
              "      <th>27</th>\n",
              "      <td>871</td>\n",
              "      <td>restricted</td>\n",
              "    </tr>\n",
              "    <tr>\n",
              "      <th>85</th>\n",
              "      <td>1203</td>\n",
              "      <td>restricted</td>\n",
              "    </tr>\n",
              "    <tr>\n",
              "      <th>143</th>\n",
              "      <td>688</td>\n",
              "      <td>ad libitum</td>\n",
              "    </tr>\n",
              "    <tr>\n",
              "      <th>164</th>\n",
              "      <td>738</td>\n",
              "      <td>ad libitum</td>\n",
              "    </tr>\n",
              "    <tr>\n",
              "      <th>80</th>\n",
              "      <td>1173</td>\n",
              "      <td>restricted</td>\n",
              "    </tr>\n",
              "    <tr>\n",
              "      <th>178</th>\n",
              "      <td>779</td>\n",
              "      <td>ad libitum</td>\n",
              "    </tr>\n",
              "    <tr>\n",
              "      <th>46</th>\n",
              "      <td>1008</td>\n",
              "      <td>restricted</td>\n",
              "    </tr>\n",
              "    <tr>\n",
              "      <th>160</th>\n",
              "      <td>732</td>\n",
              "      <td>ad libitum</td>\n",
              "    </tr>\n",
              "    <tr>\n",
              "      <th>76</th>\n",
              "      <td>1149</td>\n",
              "      <td>restricted</td>\n",
              "    </tr>\n",
              "    <tr>\n",
              "      <th>175</th>\n",
              "      <td>770</td>\n",
              "      <td>ad libitum</td>\n",
              "    </tr>\n",
              "    <tr>\n",
              "      <th>6</th>\n",
              "      <td>389</td>\n",
              "      <td>restricted</td>\n",
              "    </tr>\n",
              "    <tr>\n",
              "      <th>65</th>\n",
              "      <td>1099</td>\n",
              "      <td>restricted</td>\n",
              "    </tr>\n",
              "    <tr>\n",
              "      <th>59</th>\n",
              "      <td>1070</td>\n",
              "      <td>restricted</td>\n",
              "    </tr>\n",
              "    <tr>\n",
              "      <th>185</th>\n",
              "      <td>801</td>\n",
              "      <td>ad libitum</td>\n",
              "    </tr>\n",
              "    <tr>\n",
              "      <th>162</th>\n",
              "      <td>735</td>\n",
              "      <td>ad libitum</td>\n",
              "    </tr>\n",
              "    <tr>\n",
              "      <th>153</th>\n",
              "      <td>715</td>\n",
              "      <td>ad libitum</td>\n",
              "    </tr>\n",
              "  </tbody>\n",
              "</table>\n",
              "</div>\n",
              "      <button class=\"colab-df-convert\" onclick=\"convertToInteractive('df-679a5cd0-5f2d-42f3-822e-0c0e4e894a9c')\"\n",
              "              title=\"Convert this dataframe to an interactive table.\"\n",
              "              style=\"display:none;\">\n",
              "        \n",
              "  <svg xmlns=\"http://www.w3.org/2000/svg\" height=\"24px\"viewBox=\"0 0 24 24\"\n",
              "       width=\"24px\">\n",
              "    <path d=\"M0 0h24v24H0V0z\" fill=\"none\"/>\n",
              "    <path d=\"M18.56 5.44l.94 2.06.94-2.06 2.06-.94-2.06-.94-.94-2.06-.94 2.06-2.06.94zm-11 1L8.5 8.5l.94-2.06 2.06-.94-2.06-.94L8.5 2.5l-.94 2.06-2.06.94zm10 10l.94 2.06.94-2.06 2.06-.94-2.06-.94-.94-2.06-.94 2.06-2.06.94z\"/><path d=\"M17.41 7.96l-1.37-1.37c-.4-.4-.92-.59-1.43-.59-.52 0-1.04.2-1.43.59L10.3 9.45l-7.72 7.72c-.78.78-.78 2.05 0 2.83L4 21.41c.39.39.9.59 1.41.59.51 0 1.02-.2 1.41-.59l7.78-7.78 2.81-2.81c.8-.78.8-2.07 0-2.86zM5.41 20L4 18.59l7.72-7.72 1.47 1.35L5.41 20z\"/>\n",
              "  </svg>\n",
              "      </button>\n",
              "      \n",
              "  <style>\n",
              "    .colab-df-container {\n",
              "      display:flex;\n",
              "      flex-wrap:wrap;\n",
              "      gap: 12px;\n",
              "    }\n",
              "\n",
              "    .colab-df-convert {\n",
              "      background-color: #E8F0FE;\n",
              "      border: none;\n",
              "      border-radius: 50%;\n",
              "      cursor: pointer;\n",
              "      display: none;\n",
              "      fill: #1967D2;\n",
              "      height: 32px;\n",
              "      padding: 0 0 0 0;\n",
              "      width: 32px;\n",
              "    }\n",
              "\n",
              "    .colab-df-convert:hover {\n",
              "      background-color: #E2EBFA;\n",
              "      box-shadow: 0px 1px 2px rgba(60, 64, 67, 0.3), 0px 1px 3px 1px rgba(60, 64, 67, 0.15);\n",
              "      fill: #174EA6;\n",
              "    }\n",
              "\n",
              "    [theme=dark] .colab-df-convert {\n",
              "      background-color: #3B4455;\n",
              "      fill: #D2E3FC;\n",
              "    }\n",
              "\n",
              "    [theme=dark] .colab-df-convert:hover {\n",
              "      background-color: #434B5C;\n",
              "      box-shadow: 0px 1px 3px 1px rgba(0, 0, 0, 0.15);\n",
              "      filter: drop-shadow(0px 1px 2px rgba(0, 0, 0, 0.3));\n",
              "      fill: #FFFFFF;\n",
              "    }\n",
              "  </style>\n",
              "\n",
              "      <script>\n",
              "        const buttonEl =\n",
              "          document.querySelector('#df-679a5cd0-5f2d-42f3-822e-0c0e4e894a9c button.colab-df-convert');\n",
              "        buttonEl.style.display =\n",
              "          google.colab.kernel.accessAllowed ? 'block' : 'none';\n",
              "\n",
              "        async function convertToInteractive(key) {\n",
              "          const element = document.querySelector('#df-679a5cd0-5f2d-42f3-822e-0c0e4e894a9c');\n",
              "          const dataTable =\n",
              "            await google.colab.kernel.invokeFunction('convertToInteractive',\n",
              "                                                     [key], {});\n",
              "          if (!dataTable) return;\n",
              "\n",
              "          const docLinkHtml = 'Like what you see? Visit the ' +\n",
              "            '<a target=\"_blank\" href=https://colab.research.google.com/notebooks/data_table.ipynb>data table notebook</a>'\n",
              "            + ' to learn more about interactive tables.';\n",
              "          element.innerHTML = '';\n",
              "          dataTable['output_type'] = 'display_data';\n",
              "          await google.colab.output.renderOutput(dataTable, element);\n",
              "          const docLink = document.createElement('div');\n",
              "          docLink.innerHTML = docLinkHtml;\n",
              "          element.appendChild(docLink);\n",
              "        }\n",
              "      </script>\n",
              "    </div>\n",
              "  </div>\n",
              "  "
            ]
          },
          "metadata": {},
          "execution_count": 70
        }
      ],
      "source": [
        "rats = pd.read_csv('rats.txt', delimiter='\\t')\n",
        "rats.sample(20)"
      ]
    },
    {
      "cell_type": "code",
      "execution_count": 71,
      "metadata": {
        "id": "Vhc0TW1SeeOe"
      },
      "outputs": [],
      "source": [
        "x1 = rats.loc[rats['diet'] == 'restricted']['lifespan'].values\n",
        "x2 = rats.loc[rats['diet'] == 'ad libitum']['lifespan'].values"
      ]
    },
    {
      "cell_type": "code",
      "execution_count": 72,
      "metadata": {
        "id": "6AkVyQ31eeOe",
        "colab": {
          "base_uri": "https://localhost:8080/",
          "height": 281
        },
        "outputId": "c867c20e-457b-4dcd-c4f7-5877b6fc519d"
      },
      "outputs": [
        {
          "output_type": "display_data",
          "data": {
            "text/plain": [
              "<Figure size 432x288 with 1 Axes>"
            ],
            "image/png": "[encoded data removed]"
          },
          "metadata": {
            "needs_background": "light"
          }
        }
      ],
      "source": [
        "plt.title('restricted')\n",
        "sns.boxplot(x=x1)\n",
        "plt.show()"
      ]
    },
    {
      "cell_type": "code",
      "execution_count": 73,
      "metadata": {
        "id": "hFvZB2BjeeOe",
        "colab": {
          "base_uri": "https://localhost:8080/",
          "height": 281
        },
        "outputId": "dab7abcf-758a-4908-f8da-1e563ab72043"
      },
      "outputs": [
        {
          "output_type": "display_data",
          "data": {
            "text/plain": [
              "<Figure size 432x288 with 1 Axes>"
            ],
            "image/png": "[encoded data removed]"
          },
          "metadata": {
            "needs_background": "light"
          }
        }
      ],
      "source": [
        "plt.title('ad libitum')\n",
        "sns.boxplot(x=x2)\n",
        "plt.show()"
      ]
    },
    {
      "cell_type": "code",
      "execution_count": 74,
      "metadata": {
        "id": "hFeplSHUeeOe",
        "colab": {
          "base_uri": "https://localhost:8080/",
          "height": 279
        },
        "outputId": "c3b88a15-5cb3-41a1-9179-c730ab0078ff"
      },
      "outputs": [
        {
          "output_type": "display_data",
          "data": {
            "text/plain": [
              "<Figure size 432x288 with 1 Axes>"
            ],
            "image/png": "[encoded data removed]"
          },
          "metadata": {
            "needs_background": "light"
          }
        }
      ],
      "source": [
        "sns.boxplot(x='lifespan', y='diet', data=rats)\n",
        "plt.show()"
      ]
    },
    {
      "cell_type": "markdown",
      "metadata": {
        "id": "Rf5EpiVSeeOe"
      },
      "source": [
        "## Гистограммы распределений"
      ]
    },
    {
      "cell_type": "code",
      "execution_count": 75,
      "metadata": {
        "id": "NLRdmh30eeOf",
        "colab": {
          "base_uri": "https://localhost:8080/",
          "height": 265
        },
        "outputId": "6871b737-f857-49a3-f5bf-ce8608c4b383"
      },
      "outputs": [
        {
          "output_type": "display_data",
          "data": {
            "text/plain": [
              "<Figure size 432x288 with 1 Axes>"
            ],
            "image/png": "[encoded data removed]"
          },
          "metadata": {
            "needs_background": "light"
          }
        }
      ],
      "source": [
        "# ваш код\n",
        "plt.hist(x1, alpha =0.5, label = 'restricted')\n",
        "plt.hist(x2, alpha =0.5, label = 'other')\n",
        "plt.legend(loc ='best')\n",
        "plt.show()"
      ]
    },
    {
      "cell_type": "markdown",
      "metadata": {
        "id": "STEX48TAeeOf"
      },
      "source": [
        "## Проверка нормальности\n",
        "$H_0$: каждая из выборок нормальна\n",
        "\n",
        "$H_1$: нет"
      ]
    },
    {
      "cell_type": "markdown",
      "metadata": {
        "id": "MuNcZq1KeeOf"
      },
      "source": [
        "### Shapiro"
      ]
    },
    {
      "cell_type": "code",
      "execution_count": 76,
      "metadata": {
        "id": "aCw7kOYueeOf",
        "colab": {
          "base_uri": "https://localhost:8080/"
        },
        "outputId": "b0c3ef15-9662-41aa-b4d7-ab1a4e7c3599"
      },
      "outputs": [
        {
          "output_type": "execute_result",
          "data": {
            "text/plain": [
              "(ShapiroResult(statistic=0.9036345481872559, pvalue=1.1565858812900842e-06),\n",
              " ShapiroResult(statistic=0.8444006443023682, pvalue=3.081509092339729e-08))"
            ]
          },
          "metadata": {},
          "execution_count": 76
        }
      ],
      "source": [
        "# ваш код\n",
        "st.shapiro(x1), st.shapiro(x2)"
      ]
    },
    {
      "cell_type": "markdown",
      "metadata": {
        "id": "KAJ92lZdeeOf"
      },
      "source": [
        "### q-q plot"
      ]
    },
    {
      "cell_type": "code",
      "execution_count": 77,
      "metadata": {
        "id": "Nx1CkiL6eeOf",
        "colab": {
          "base_uri": "https://localhost:8080/",
          "height": 295
        },
        "outputId": "632fff33-aaae-4e45-9beb-948495dc8ad0"
      },
      "outputs": [
        {
          "output_type": "display_data",
          "data": {
            "text/plain": [
              "<Figure size 432x288 with 1 Axes>"
            ],
            "image/png": "[encoded data removed]"
          },
          "metadata": {
            "needs_background": "light"
          }
        }
      ],
      "source": [
        "# ваш код\n",
        "st.probplot(x1, plot = plt)\n",
        "plt.show()"
      ]
    },
    {
      "cell_type": "code",
      "execution_count": 78,
      "metadata": {
        "id": "Imw4vLENeeOg",
        "colab": {
          "base_uri": "https://localhost:8080/",
          "height": 295
        },
        "outputId": "daf505be-78eb-4dde-f72a-33e77ff6323f"
      },
      "outputs": [
        {
          "output_type": "display_data",
          "data": {
            "text/plain": [
              "<Figure size 432x288 with 1 Axes>"
            ],
            "image/png": "[encoded data removed]"
          },
          "metadata": {
            "needs_background": "light"
          }
        }
      ],
      "source": [
        "# ваш код\n",
        "st.probplot(x2, plot = plt)\n",
        "plt.show()"
      ]
    },
    {
      "cell_type": "markdown",
      "metadata": {
        "id": "1SmzzuE3eeOg"
      },
      "source": [
        "Попробуем исключить крыс, проживших меньше 400 дней (например, можно предположить, что смерть раньше этого срока вызывается причинами, не связанными с диетой)."
      ]
    },
    {
      "cell_type": "code",
      "execution_count": 79,
      "metadata": {
        "id": "NPcAFCroeeOg"
      },
      "outputs": [],
      "source": [
        "x1c = x1[np.where(x1>=400)[0]]\n",
        "x2c = x2[np.where(x2>=400)[0]]"
      ]
    },
    {
      "cell_type": "markdown",
      "metadata": {
        "id": "BtKquwBkeeOg"
      },
      "source": [
        "### Shapiro"
      ]
    },
    {
      "cell_type": "code",
      "execution_count": 80,
      "metadata": {
        "id": "vkG7rZvheeOg",
        "colab": {
          "base_uri": "https://localhost:8080/"
        },
        "outputId": "f4e44cd0-8fde-4135-b7db-b2d6b80e5c83"
      },
      "outputs": [
        {
          "output_type": "execute_result",
          "data": {
            "text/plain": [
              "(ShapiroResult(statistic=0.9738006591796875, pvalue=0.04921640083193779),\n",
              " ShapiroResult(statistic=0.9765744209289551, pvalue=0.11983636021614075))"
            ]
          },
          "metadata": {},
          "execution_count": 80
        }
      ],
      "source": [
        "# ваш код\n",
        "st.shapiro(x1c), st.shapiro(x2c)"
      ]
    },
    {
      "cell_type": "markdown",
      "metadata": {
        "id": "TgBSRo_teeOg"
      },
      "source": [
        "Ожидаемые p-value:\n",
        "```0.049,  0.119```\n",
        "\n",
        "Усечённые выборки можно считать практически нормальными."
      ]
    },
    {
      "cell_type": "markdown",
      "metadata": {
        "id": "wyk0TQBEeeOh"
      },
      "source": [
        "## Сравнение средних\n",
        "$H_0$: продолжительность жизни крыс не меняется при ограничении диеты.\n",
        "\n",
        "$H_1$: крысы на строгой диете живут дольше.\n",
        "\n"
      ]
    },
    {
      "cell_type": "markdown",
      "metadata": {
        "id": "L34rF2zEeeOh"
      },
      "source": [
        "### Усеченные выборки"
      ]
    },
    {
      "cell_type": "code",
      "execution_count": 82,
      "metadata": {
        "id": "wiKvsySXeeOh",
        "colab": {
          "base_uri": "https://localhost:8080/"
        },
        "outputId": "9dd8da66-1063-4f7f-bb8f-d9a47ff3e71b"
      },
      "outputs": [
        {
          "output_type": "execute_result",
          "data": {
            "text/plain": [
              "(14.527701019046814, 3.941182274101304e-30, 141.33154919379604)"
            ]
          },
          "metadata": {},
          "execution_count": 82
        }
      ],
      "source": [
        "ttest_ind(x1c, x2c, alternative='larger', usevar='unequal') #дисперсии неизв"
      ]
    },
    {
      "cell_type": "code",
      "execution_count": 83,
      "metadata": {
        "id": "DZ3bPkiheeOh",
        "colab": {
          "base_uri": "https://localhost:8080/"
        },
        "outputId": "5d384856-8a2f-46db-a3bd-3267c64dbc87"
      },
      "outputs": [
        {
          "output_type": "execute_result",
          "data": {
            "text/plain": [
              "(14.527701019046814, 7.882364548202608e-30, 141.33154919379604)"
            ]
          },
          "metadata": {},
          "execution_count": 83
        }
      ],
      "source": [
        "ttest_ind(x1c,x2c, alternative='two-sided', usevar='unequal')"
      ]
    },
    {
      "cell_type": "markdown",
      "metadata": {
        "id": "Sa8qe8G-eeOh"
      },
      "source": [
        "### Полные выборки:"
      ]
    },
    {
      "cell_type": "code",
      "execution_count": 84,
      "metadata": {
        "id": "LX0C9svkeeOh",
        "colab": {
          "base_uri": "https://localhost:8080/"
        },
        "outputId": "438e5ca9-687c-4025-de23-bdad04c71ebb"
      },
      "outputs": [
        {
          "output_type": "execute_result",
          "data": {
            "text/plain": [
              "(9.161061040974156, 1.4580405594293205e-16, 154.9404956691433)"
            ]
          },
          "metadata": {},
          "execution_count": 84
        }
      ],
      "source": [
        "ttest_ind(x1,x2, alternative='larger', usevar='unequal')"
      ]
    },
    {
      "cell_type": "code",
      "execution_count": 85,
      "metadata": {
        "id": "OT7gtKkneeOh",
        "colab": {
          "base_uri": "https://localhost:8080/"
        },
        "outputId": "f19cb14b-e68f-4be0-b3b0-2103981fd425"
      },
      "outputs": [
        {
          "output_type": "execute_result",
          "data": {
            "text/plain": [
              "(9.161061040974156, 2.916081118858641e-16, 154.9404956691433)"
            ]
          },
          "metadata": {},
          "execution_count": 85
        }
      ],
      "source": [
        "ttest_ind(x1,x2, alternative='two-sided', usevar='unequal')"
      ]
    },
    {
      "cell_type": "markdown",
      "metadata": {
        "id": "fEpQMBKdeeOi"
      },
      "source": [
        "# Placebo\n",
        "**Pearson D.A, Santos C.W., Casat C.D., et al. (2004). Treatment effects of methylphenidate on cognitive functioning in children with mental retardation and ADHD. Journal of the American Academy of Child and Adolescent Psychiatry, 43(6), 677–685.**"
      ]
    },
    {
      "cell_type": "markdown",
      "metadata": {
        "id": "PCmeu7rNeeOi"
      },
      "source": [
        "## Метилфенидат и синдром дефицита внимания\n",
        "\n",
        "24 умственно отсталых ребёнка с СДВГ в течение недели принимали либо метилфенидат, либо плацебо, а в конце недели проходили тест на способность к подавлению импульсивных поведенческих реакций. На втором этапе плацебо и препарат менялись, после недельного курса каждый испытуемые проходили второй тест.\n",
        "\n",
        "Каков эффект препарата?"
      ]
    },
    {
      "cell_type": "code",
      "execution_count": 87,
      "metadata": {
        "id": "ZCbbXumgeeOi",
        "colab": {
          "base_uri": "https://localhost:8080/",
          "height": 279
        },
        "outputId": "099f87ce-cda9-4520-f954-62a004894f74"
      },
      "outputs": [
        {
          "output_type": "display_data",
          "data": {
            "text/plain": [
              "<Figure size 432x288 with 1 Axes>"
            ],
            "image/png": "[encoded data removed]"
          },
          "metadata": {
            "needs_background": "light"
          }
        }
      ],
      "source": [
        "att = pd.read_csv('ADHD.txt', sep=' ').values\n",
        "\n",
        "plt.scatter(att[:, 0], att[:, 1])\n",
        "plt.xlabel('Placebo')\n",
        "plt.ylabel('Methylphenidate')\n",
        "plt.plot([min(att[:,0]), max(att[:,0])], [min(att[:,1]), max(att[:,1])])\n",
        "\n",
        "plt.show()"
      ]
    },
    {
      "cell_type": "markdown",
      "metadata": {
        "id": "mvlKjbsFeeOi"
      },
      "source": [
        "### Проверка гипотез\n",
        "Чтобы использовать критерий Стьюдента для связанных выборок, проверим, нет ли существенных отклонений от нормальности попарных разностей:"
      ]
    },
    {
      "cell_type": "markdown",
      "metadata": {
        "id": "IDW8wwNteeOi"
      },
      "source": [
        "### Проверка нормальности"
      ]
    },
    {
      "cell_type": "code",
      "execution_count": 88,
      "metadata": {
        "id": "HhBaZgb-eeOj",
        "colab": {
          "base_uri": "https://localhost:8080/",
          "height": 336
        },
        "outputId": "cdef2f8d-1520-4616-dd07-b09154382495"
      },
      "outputs": [
        {
          "output_type": "stream",
          "name": "stderr",
          "text": [
            "/usr/local/lib/python3.8/dist-packages/seaborn/distributions.py:2619: FutureWarning: `distplot` is a deprecated function and will be removed in a future version. Please adapt your code to use either `displot` (a figure-level function with similar flexibility) or `histplot` (an axes-level function for histograms).\n",
            "  warnings.warn(msg, FutureWarning)\n"
          ]
        },
        {
          "output_type": "display_data",
          "data": {
            "text/plain": [
              "<Figure size 432x288 with 1 Axes>"
            ],
            "image/png": "[encoded data removed]"
          },
          "metadata": {
            "needs_background": "light"
          }
        }
      ],
      "source": [
        "deltas = att[:,1] - att[:,0]\n",
        "sns.distplot(deltas, label='Deltas empirical distribution')\n",
        "plt.plot(sorted(deltas), st.distributions.norm(np.mean(deltas), np.std(deltas)).pdf(sorted(deltas)), label='Gaussian distribution')\n",
        "plt.legend(loc='best')\n",
        "plt.title('Difference hist')\n",
        "\n",
        "plt.show()"
      ]
    },
    {
      "cell_type": "markdown",
      "metadata": {
        "id": "oIpOuFbreeOj"
      },
      "source": [
        "#### q-q plot"
      ]
    },
    {
      "cell_type": "code",
      "source": [
        "# ваш код\n",
        "st.probplot(att[:,0], plot=plt)\n",
        "plt.show()"
      ],
      "metadata": {
        "colab": {
          "base_uri": "https://localhost:8080/",
          "height": 295
        },
        "id": "wOrrmNb2AjOI",
        "outputId": "5e57c71a-2607-44a4-c604-05c2b1fb60c7"
      },
      "execution_count": 95,
      "outputs": [
        {
          "output_type": "display_data",
          "data": {
            "text/plain": [
              "<Figure size 432x288 with 1 Axes>"
            ],
            "image/png": "[encoded data removed]"
          },
          "metadata": {
            "needs_background": "light"
          }
        }
      ]
    },
    {
      "cell_type": "code",
      "execution_count": 93,
      "metadata": {
        "id": "wCzxAwU_eeOj",
        "colab": {
          "base_uri": "https://localhost:8080/",
          "height": 295
        },
        "outputId": "098f9311-1596-40be-b849-81a5bc81b329"
      },
      "outputs": [
        {
          "output_type": "display_data",
          "data": {
            "text/plain": [
              "<Figure size 432x288 with 1 Axes>"
            ],
            "image/png": "[encoded data removed]"
          },
          "metadata": {
            "needs_background": "light"
          }
        }
      ],
      "source": [
        "# ваш код\n",
        "st.probplot(att[:,1], plot=plt)\n",
        "plt.show()"
      ]
    },
    {
      "cell_type": "markdown",
      "metadata": {
        "id": "hhZC_91geeOj"
      },
      "source": [
        "#### Shapiro"
      ]
    },
    {
      "cell_type": "code",
      "execution_count": 105,
      "metadata": {
        "id": "t0M1A3DVeeOj",
        "colab": {
          "base_uri": "https://localhost:8080/"
        },
        "outputId": "4d676f63-2205-4c17-f66f-9798184ac1b7"
      },
      "outputs": [
        {
          "output_type": "execute_result",
          "data": {
            "text/plain": [
              "ShapiroResult(statistic=0.9798052906990051, pvalue=0.8922504186630249)"
            ]
          },
          "metadata": {},
          "execution_count": 105
        }
      ],
      "source": [
        "# ваш код\n",
        "#из лекции каждая из выборок должна быть норм для использования крит Стьюдента для связ выборок\n",
        "st.shapiro(att[:,0]), st.shapiro(att[:,1]) # => not norm - \"правильно\"\n",
        "# тут разность => norm -- скорее всего так \"неправильно\"\n",
        "st.shapiro(att[:,0]-att[:,1])"
      ]
    },
    {
      "cell_type": "markdown",
      "metadata": {
        "id": "MlUX7kP0eeOj"
      },
      "source": [
        "Следовательно, критерий Стьюдента применим."
      ]
    },
    {
      "cell_type": "markdown",
      "metadata": {
        "id": "I6zCC3CJeeOk"
      },
      "source": [
        "### Критерий Стьюдента\n",
        "$H_0$ - эффекта нет (матожидания равны)\n",
        "\n",
        "$H_1$ - есть эффект"
      ]
    },
    {
      "cell_type": "code",
      "execution_count": 101,
      "metadata": {
        "id": "EUnQvJTieeOk",
        "colab": {
          "base_uri": "https://localhost:8080/"
        },
        "outputId": "1d4996a5-971d-4529-ba98-538f42822c3d"
      },
      "outputs": [
        {
          "output_type": "execute_result",
          "data": {
            "text/plain": [
              "Ttest_relResult(statistic=-3.2223624451230406, pvalue=0.003771488176381471)"
            ]
          },
          "metadata": {},
          "execution_count": 101
        }
      ],
      "source": [
        "st.ttest_rel(att[:,0], att[:,1])"
      ]
    },
    {
      "cell_type": "markdown",
      "metadata": {
        "id": "6os2cUPZeeOk"
      },
      "source": [
        "Если бы у нас не было информации о связях между выборками, пришлось бы применять версию критерия Стьюдента для независимых выборок:\n",
        "\n"
      ]
    },
    {
      "cell_type": "code",
      "execution_count": 102,
      "metadata": {
        "id": "tC3UhLfyeeOk",
        "colab": {
          "base_uri": "https://localhost:8080/",
          "height": 312
        },
        "outputId": "e5ef5de8-4cda-4e0f-9c90-89ca1ef6a842"
      },
      "outputs": [
        {
          "output_type": "stream",
          "name": "stdout",
          "text": [
            "ShapiroResult(statistic=0.8574873208999634, pvalue=0.00302018690854311)\n"
          ]
        },
        {
          "output_type": "display_data",
          "data": {
            "text/plain": [
              "<Figure size 432x288 with 1 Axes>"
            ],
            "image/png": "[encoded data removed]"
          },
          "metadata": {
            "needs_background": "light"
          }
        }
      ],
      "source": [
        "print(st.shapiro(att[:,0]))\n",
        "_ = st.probplot(att[:,0], plot=plt)\n",
        "plt.show()\n"
      ]
    },
    {
      "cell_type": "code",
      "execution_count": 103,
      "metadata": {
        "id": "X0Oq5Q5ReeOk",
        "colab": {
          "base_uri": "https://localhost:8080/",
          "height": 312
        },
        "outputId": "a5b96515-0db9-4a88-be25-cb6c5a70633d"
      },
      "outputs": [
        {
          "output_type": "stream",
          "name": "stdout",
          "text": [
            "ShapiroResult(statistic=0.9164453148841858, pvalue=0.04876822605729103)\n"
          ]
        },
        {
          "output_type": "display_data",
          "data": {
            "text/plain": [
              "<Figure size 432x288 with 1 Axes>"
            ],
            "image/png": "[encoded data removed]"
          },
          "metadata": {
            "needs_background": "light"
          }
        }
      ],
      "source": [
        "print(st.shapiro(att[:,1]))\n",
        "_ = st.probplot(att[:,1], plot=plt)\n",
        "plt.show()"
      ]
    },
    {
      "cell_type": "code",
      "execution_count": 104,
      "metadata": {
        "id": "pbEwWDVgeeOk",
        "colab": {
          "base_uri": "https://localhost:8080/"
        },
        "outputId": "af8b9e6f-d516-4f00-ae8f-40ce1d86a586"
      },
      "outputs": [
        {
          "output_type": "execute_result",
          "data": {
            "text/plain": [
              "Ttest_indResult(statistic=-1.452163501815909, pvalue=0.1532433046938409)"
            ]
          },
          "metadata": {},
          "execution_count": 104
        }
      ],
      "source": [
        "st.ttest_ind(att[:,0], att[:,1])"
      ]
    }
  ],
  "metadata": {
    "celltoolbar": "Slideshow",
    "kernelspec": {
      "display_name": "Python 3",
      "language": "python",
      "name": "python3"
    },
    "language_info": {
      "codemirror_mode": {
        "name": "ipython",
        "version": 3
      },
      "file_extension": ".py",
      "mimetype": "text/x-python",
      "name": "python",
      "nbconvert_exporter": "python",
      "pygments_lexer": "ipython3",
      "version": "3.7.3"
    },
    "colab": {
      "provenance": []
    }
  },
  "nbformat": 4,
  "nbformat_minor": 0
}