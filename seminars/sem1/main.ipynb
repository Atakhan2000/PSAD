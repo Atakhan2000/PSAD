{
  "cells": [
    {
      "cell_type": "markdown",
      "metadata": {
        "id": "9JyKXy-Fgbsg"
      },
      "source": [
        "# Введение. Базовые методы анализа данных."
      ]
    },
    {
      "cell_type": "markdown",
      "metadata": {
        "id": "g9s5l9Gogbsm"
      },
      "source": [
        "# Библиотеки"
      ]
    },
    {
      "cell_type": "code",
      "source": [
        "# try:\n",
        "#     import google.colab\n",
        "#     IN_COLAB = True\n",
        "# except:\n",
        "#     IN_COLAB = False\n",
        "\n",
        "# if IN_COLAB:\n",
        "#     !wget -q -O requirements.txt https://raw.githubusercontent.com/andriygav/PSAD/master/seminars/sem1/requirements.txt\n",
        "#     !pip install -q -r requirements.txt"
      ],
      "metadata": {
        "id": "aOMLsX8Ggq1v"
      },
      "execution_count": null,
      "outputs": []
    },
    {
      "cell_type": "code",
      "execution_count": null,
      "metadata": {
        "id": "Nm4qieRIgbsn"
      },
      "outputs": [],
      "source": [
        "import numpy as np\n",
        "import matplotlib.pylab as plt\n",
        "from matplotlib import gridspec\n",
        "import pandas as pd\n",
        "import scipy.stats as st\n",
        "import seaborn as sns"
      ]
    },
    {
      "cell_type": "markdown",
      "metadata": {
        "id": "mwfUILBtgbsp"
      },
      "source": [
        "# Задание параметров ```matplotlib```"
      ]
    },
    {
      "cell_type": "code",
      "execution_count": null,
      "metadata": {
        "id": "EWwGuRjegbsq"
      },
      "outputs": [],
      "source": [
        "# параметр для задания толщины линии\n",
        "plt.rcParams['lines.linewidth'] = 1\n",
        "# параметр для задания ширины точек\n",
        "plt.rcParams['lines.markersize'] = 6\n",
        "# параметр для задания шрифта осей x и y (цифр на осях)\n",
        "plt.rcParams['xtick.labelsize'] = 24\n",
        "plt.rcParams['ytick.labelsize'] = 24\n",
        "# параметр для задания шрифта на осях \n",
        "plt.rcParams['legend.fontsize'] = 24\n",
        "# параметр для задания шрифта заголовка\n",
        "plt.rcParams['axes.titlesize'] = 36\n",
        "# параметр для задания шрифта осей x и y (название оси)\n",
        "plt.rcParams['axes.labelsize'] = 12\n",
        "plt.rcParams['figure.figsize'] = (8.0, 4.0)\n",
        "# параметр для задания шрифта вспомагательных записей на графику (annotate или text)\n",
        "plt.rcParams['font.size'] = 10"
      ]
    },
    {
      "cell_type": "markdown",
      "metadata": {
        "id": "wBYonFPIgbsr"
      },
      "source": [
        "# Построение графиков"
      ]
    },
    {
      "cell_type": "markdown",
      "metadata": {
        "id": "dWTmuJZJgbsr"
      },
      "source": [
        "## Построение одного графика"
      ]
    },
    {
      "cell_type": "code",
      "execution_count": null,
      "metadata": {
        "id": "T9EsYpkggbsr"
      },
      "outputs": [],
      "source": [
        "def plot():\n",
        "    plt.rcParams['lines.linewidth'] = 2\n",
        "    plt.rcParams['lines.markersize'] = 6\n",
        "    plt.rcParams['xtick.labelsize'] = 18\n",
        "    plt.rcParams['ytick.labelsize'] = 18\n",
        "    plt.rcParams['legend.fontsize'] = 18\n",
        "    plt.rcParams['axes.titlesize'] = 36\n",
        "    plt.rcParams['axes.labelsize'] = 18\n",
        "    plt.rcParams['figure.figsize'] = (8.0, 4.0)\n",
        "    plt.rcParams['font.size'] = 18\n",
        "    ###########################################\n",
        "\n",
        "    x = np.linspace(-np.pi, np.pi)\n",
        "    y = np.sin(x)\n",
        "    plt.plot(x, y, label='$y = sin(x)$')\n",
        "    x = np.arange(-1, 2)\n",
        "    y = x\n",
        "    plt.plot(x, y, label='$y = x$')\n",
        "    # отрисовка легенды графика\n",
        "    plt.legend(loc='best')\n",
        "    # подпись осей\n",
        "    plt.xlabel('$x$')\n",
        "    plt.ylabel('$y$')\n",
        "    # заголовок\n",
        "    plt.title('Title')\n",
        "    # отрисовка сетки на графике\n",
        "    plt.grid()\n",
        "    plt.show()"
      ]
    },
    {
      "cell_type": "code",
      "execution_count": null,
      "metadata": {
        "id": "wpxdxxCXgbsu"
      },
      "outputs": [],
      "source": [
        "plot()"
      ]
    },
    {
      "cell_type": "markdown",
      "metadata": {
        "id": "QzQfuMQlgbsw"
      },
      "source": [
        "## Построение нескольких графиков"
      ]
    },
    {
      "cell_type": "code",
      "execution_count": null,
      "metadata": {
        "id": "-rUNZCkPgbsw"
      },
      "outputs": [],
      "source": [
        "def plot():\n",
        "    plt.rcParams['lines.linewidth'] = 2\n",
        "    plt.rcParams['lines.markersize'] = 6\n",
        "    plt.rcParams['xtick.labelsize'] = 18\n",
        "    plt.rcParams['ytick.labelsize'] = 18\n",
        "    plt.rcParams['legend.fontsize'] = 18\n",
        "    plt.rcParams['axes.titlesize'] = 36\n",
        "    plt.rcParams['axes.labelsize'] = 18\n",
        "    plt.rcParams['figure.figsize'] = (16.0, 8.0)\n",
        "    plt.rcParams['font.size'] = 50\n",
        "    ###########################################\n",
        "\n",
        "    fig = plt.figure();\n",
        "\n",
        "    gs = gridspec.GridSpec(2, 2)\n",
        "\n",
        "    subs = []\n",
        "    for sub in gs:\n",
        "        subs.append(fig.add_subplot(sub))\n",
        "    subs = np.reshape(subs, [2,2])\n",
        "\n",
        "    subplotNames = ['First', 'Second', 'Third', 'Forth']\n",
        "\n",
        "    for i in range(4):\n",
        "        subs[i//2][i%2].annotate(text=subplotNames[i], xy=(0,0))\n",
        "        subs[i//2][i%2].set_xlim(-1,1)\n",
        "        subs[i//2][i%2].set_ylim(-1,1)\n",
        "\n",
        "    plt.show()"
      ]
    },
    {
      "cell_type": "code",
      "execution_count": null,
      "metadata": {
        "id": "Xi4SfW-ogbsy"
      },
      "outputs": [],
      "source": [
        "plot()"
      ]
    },
    {
      "cell_type": "markdown",
      "metadata": {
        "id": "JzDzqsSHgbsz"
      },
      "source": [
        "# Работа с ```pandas```"
      ]
    },
    {
      "cell_type": "markdown",
      "metadata": {
        "id": "ahGqKNqbgbsz"
      },
      "source": [
        "## Загрузка данных\n",
        "Загрузим данные из csv-файла с помощью библиотеки pandas "
      ]
    },
    {
      "cell_type": "code",
      "execution_count": null,
      "metadata": {
        "id": "jnxS4Ez7gbs0"
      },
      "outputs": [],
      "source": [
        "data = pd.read_csv('https://raw.githubusercontent.com/selva86/datasets/master/BostonHousing.csv')"
      ]
    },
    {
      "cell_type": "code",
      "execution_count": null,
      "metadata": {
        "id": "QYkdBbxBgbs0"
      },
      "outputs": [],
      "source": [
        "data.head()"
      ]
    },
    {
      "cell_type": "markdown",
      "metadata": {
        "id": "_I-XmCXagbs1"
      },
      "source": [
        "## Некоторые функции по работе с ```pandas```"
      ]
    },
    {
      "cell_type": "markdown",
      "metadata": {
        "id": "VXajQKM7gbs1"
      },
      "source": [
        "### Сэмплируем данные из выборки"
      ]
    },
    {
      "cell_type": "code",
      "execution_count": null,
      "metadata": {
        "id": "GZMkpT5-gbs2"
      },
      "outputs": [],
      "source": [
        "data.sample(n=2, random_state=42)"
      ]
    },
    {
      "cell_type": "markdown",
      "metadata": {
        "id": "S0GcBzBmgbs2"
      },
      "source": [
        "### Выбираем интересующую нас колонку"
      ]
    },
    {
      "cell_type": "code",
      "execution_count": null,
      "metadata": {
        "id": "iCt9qHFsgbs3"
      },
      "outputs": [],
      "source": [
        "data['zn'].head(n=2)"
      ]
    },
    {
      "cell_type": "markdown",
      "metadata": {
        "id": "BuVWioaQgbs3"
      },
      "source": [
        "### Выбираем несколько колонок"
      ]
    },
    {
      "cell_type": "code",
      "execution_count": null,
      "metadata": {
        "id": "oe7AmYmggbs3"
      },
      "outputs": [],
      "source": [
        "data.iloc[:, 1:3].head(n=2)"
      ]
    },
    {
      "cell_type": "markdown",
      "metadata": {
        "id": "rMtlz7ozgbs4"
      },
      "source": [
        "### Выбираем интересующие нас строки"
      ]
    },
    {
      "cell_type": "code",
      "execution_count": null,
      "metadata": {
        "id": "ERYWXH1zgbs5"
      },
      "outputs": [],
      "source": [
        "data.iloc[1:3]"
      ]
    },
    {
      "cell_type": "markdown",
      "metadata": {
        "id": "H4ussMzjgbs5"
      },
      "source": [
        "### Конвертируем данные из ```pandas``` в ```numpy``` массив"
      ]
    },
    {
      "cell_type": "code",
      "execution_count": null,
      "metadata": {
        "id": "j0JVVRMjgbs5"
      },
      "outputs": [],
      "source": [
        "data2 = data.to_numpy()\n",
        "data3 = data.values"
      ]
    },
    {
      "cell_type": "code",
      "execution_count": null,
      "metadata": {
        "id": "8aKnlS-Jgbs6"
      },
      "outputs": [],
      "source": [
        "(data3 - data2).sum()"
      ]
    },
    {
      "cell_type": "markdown",
      "metadata": {
        "id": "lwyHhQ-6gbs6"
      },
      "source": [
        "# Визуализация"
      ]
    },
    {
      "cell_type": "markdown",
      "metadata": {
        "id": "hfd9MDQZgbs7"
      },
      "source": [
        "### Описание столбцов матрицы, описывающей выборку"
      ]
    },
    {
      "cell_type": "code",
      "execution_count": null,
      "metadata": {
        "id": "TmXa3KIDgbs7"
      },
      "outputs": [],
      "source": [
        "data.columns"
      ]
    },
    {
      "cell_type": "markdown",
      "metadata": {
        "id": "uZwH0378gbs8"
      },
      "source": [
        "```CRIM: Per capita crime rate by town\n",
        "ZN: Proportion of residential land zoned for lots over 25,000 sq. ft\n",
        "INDUS: Proportion of non-retail business acres per town\n",
        "CHAS: Charles River dummy variable (= 1 if tract bounds river; 0 otherwise)\n",
        "NOX: Nitric oxide concentration (parts per 10 million)\n",
        "RM: Average number of rooms per dwelling\n",
        "AGE: Proportion of owner-occupied units built prior to 1940\n",
        "DIS: Weighted distances to five Boston employment centers\n",
        "RAD: Index of accessibility to radial highways\n",
        "TAX: Full-value property tax rate per $10,000\n",
        "PTRATIO: Pupil-teacher ratio by town\n",
        "B: 1000(Bk — 0.63)², where Bk is the proportion of [people of African American descent] by town\n",
        "LSTAT: Percentage of lower status of the population\n",
        "MEDV: Median value of owner-occupied homes in $1000s```"
      ]
    },
    {
      "cell_type": "markdown",
      "metadata": {
        "id": "pqRlsI-Igbs9"
      },
      "source": [
        "### Выберем столбец MEDV"
      ]
    },
    {
      "cell_type": "code",
      "execution_count": null,
      "metadata": {
        "id": "94UXuqdhgbs-"
      },
      "outputs": [],
      "source": [
        "x = data['medv'].values"
      ]
    },
    {
      "cell_type": "markdown",
      "metadata": {
        "id": "YDCBJxzsgbtA"
      },
      "source": [
        "## Гистограмма"
      ]
    },
    {
      "cell_type": "code",
      "execution_count": null,
      "metadata": {
        "id": "pA_MUPQ-gbtC"
      },
      "outputs": [],
      "source": [
        "plt.rcParams['figure.figsize'] = (8.0, 4.0)\n",
        "###########################################\n",
        "\n",
        "plt.hist(x)\n",
        "plt.show()"
      ]
    },
    {
      "cell_type": "markdown",
      "metadata": {
        "id": "kG_-CZhggbtE"
      },
      "source": [
        "## Ядерная оценка"
      ]
    },
    {
      "cell_type": "code",
      "execution_count": null,
      "metadata": {
        "id": "EIcovBP3gbtF"
      },
      "outputs": [],
      "source": [
        "plt.rcParams['figure.figsize'] = (8.0, 4.0)\n",
        "###########################################\n",
        "\n",
        "sns.kdeplot(x)\n",
        "plt.show()"
      ]
    },
    {
      "cell_type": "code",
      "execution_count": null,
      "metadata": {
        "id": "NcmGeWk4gbtG"
      },
      "outputs": [],
      "source": [
        "plt.rcParams['figure.figsize'] = (8.0, 4.0)\n",
        "###########################################\n",
        "\n",
        "sns.distplot(x)\n",
        "plt.show()"
      ]
    },
    {
      "cell_type": "markdown",
      "metadata": {
        "id": "aYbA4ws5gbtH"
      },
      "source": [
        "## Корреляционная матрица\n",
        "Отобразим корреляционную матрицу для всех признаков объекта"
      ]
    },
    {
      "cell_type": "code",
      "execution_count": null,
      "metadata": {
        "id": "wb1M1kHEgbtH"
      },
      "outputs": [],
      "source": [
        "plt.rcParams['figure.figsize'] = (8.0, 8.0)\n",
        "###########################################\n",
        "\n",
        "matrix = np.corrcoef(data.values, rowvar=False)\n",
        "im = plt.matshow(matrix)\n",
        "plt.colorbar(im)\n",
        "plt.show()"
      ]
    },
    {
      "cell_type": "markdown",
      "metadata": {
        "id": "Dmej257ngbtI"
      },
      "source": [
        "## Аналогичный график в seaborn + pandas"
      ]
    },
    {
      "cell_type": "code",
      "execution_count": null,
      "metadata": {
        "id": "Aja1Z32sgbtJ"
      },
      "outputs": [],
      "source": [
        "plt.rcParams['figure.figsize'] = (8.0, 8.0)\n",
        "plt.rcParams['font.size'] = 10\n",
        "###########################################\n",
        "\n",
        "cor = data.corr().round(2)\n",
        "sns.heatmap(data=cor, annot=True)\n",
        "plt.show()"
      ]
    },
    {
      "cell_type": "markdown",
      "metadata": {
        "id": "wFXqwz6fgbtJ"
      },
      "source": [
        "## Попарные диаграммы рассеяния для первых трех признаков"
      ]
    },
    {
      "cell_type": "code",
      "execution_count": null,
      "metadata": {
        "id": "GNqo6tRIgbtK"
      },
      "outputs": [],
      "source": [
        "sns.pairplot(data.iloc[:,0:3])\n",
        "plt.show()"
      ]
    },
    {
      "cell_type": "markdown",
      "metadata": {
        "id": "ELz5cGrCgbtK"
      },
      "source": [
        "## Аналогичный график в matplotlib"
      ]
    },
    {
      "cell_type": "code",
      "execution_count": null,
      "metadata": {
        "id": "yE9RSs7JgbtK"
      },
      "outputs": [],
      "source": [
        "plt.rcParams['figure.figsize'] = (8.0, 8.0)\n",
        "###########################################\n",
        "\n",
        "def make_scatter(i, j, subplot):\n",
        "    subplot.scatter(data.values[:, i], data.values[:, j])\n",
        "\n",
        "def make_plot(i, j, subplot):\n",
        "    if i == j:\n",
        "        subplot.hist(data.values[:, i])\n",
        "    else:\n",
        "        make_scatter(j,i, subplot)\n",
        "    \n",
        "for i in range(3):\n",
        "    for j in range(3):\n",
        "        subplot = plt.subplot(3, 3, i*3 + j + 1) # нумерация с единицы\n",
        "        make_plot(i, j, subplot)\n",
        "        "
      ]
    },
    {
      "cell_type": "markdown",
      "metadata": {
        "id": "r4pOq4LmgbtL"
      },
      "source": [
        "# Выборочные оценки"
      ]
    },
    {
      "cell_type": "markdown",
      "metadata": {
        "id": "CLm39cm3gbtL"
      },
      "source": [
        "## Среднее, медиану и дисперсию"
      ]
    },
    {
      "cell_type": "code",
      "execution_count": null,
      "metadata": {
        "id": "RA8YJtVigbtL"
      },
      "outputs": [],
      "source": [
        "print('mean={}'.format(np.mean(x)))\n",
        "print('std={}, std={}'.format(np.std(x), np.std(x, ddof=1)))"
      ]
    },
    {
      "cell_type": "markdown",
      "metadata": {
        "id": "Dcb9nkLUgbtN"
      },
      "source": [
        "## Мода распределение"
      ]
    },
    {
      "cell_type": "code",
      "execution_count": null,
      "metadata": {
        "id": "LcK-lpwBgbtO"
      },
      "outputs": [],
      "source": [
        "print('median={}'.format(np.median(x)))\n",
        "print('mode={}'.format(st.mode(x)))"
      ]
    },
    {
      "cell_type": "markdown",
      "metadata": {
        "id": "Oz2bD1scgbtO"
      },
      "source": [
        "## Минимальное и максимальное значение в выборке"
      ]
    },
    {
      "cell_type": "code",
      "execution_count": null,
      "metadata": {
        "id": "uhkFlwikgbtO"
      },
      "outputs": [],
      "source": [
        "print('maximum={}; ({})'.format(np.max(x), np.argmax(x)))\n",
        "print('minimum={}; ({})'.format(np.min(x), np.argmin(x)))"
      ]
    },
    {
      "cell_type": "markdown",
      "metadata": {
        "id": "oVhT-qT5gbtP"
      },
      "source": [
        "## Квантили распределения"
      ]
    },
    {
      "cell_type": "code",
      "execution_count": null,
      "metadata": {
        "id": "vpUH9nbrgbtP"
      },
      "outputs": [],
      "source": [
        "alpha = 0.5\n",
        "print('q(0.5)={}'.format(np.quantile(x, alpha)))"
      ]
    },
    {
      "cell_type": "markdown",
      "metadata": {
        "id": "c2FDrfjXgbtQ"
      },
      "source": [
        "## Интерквартильный размах"
      ]
    },
    {
      "cell_type": "code",
      "execution_count": null,
      "metadata": {
        "id": "sE-g_LR5gbtQ"
      },
      "outputs": [],
      "source": [
        "np.quantile(x, 0.75) - np.quantile(x, 0.25)"
      ]
    },
    {
      "cell_type": "markdown",
      "metadata": {
        "id": "DZWl3jZPgbtQ"
      },
      "source": [
        "```Ожидаемый ответ: ~7.975```"
      ]
    },
    {
      "cell_type": "markdown",
      "metadata": {
        "id": "IR53BJvPgbtR"
      },
      "source": [
        "## Ранг $x=16$"
      ]
    },
    {
      "cell_type": "code",
      "execution_count": null,
      "metadata": {
        "id": "5KbSaVDqgbtR"
      },
      "outputs": [],
      "source": [
        "ind = np.where(x==16)[0]\n",
        "print('rank(16)={}'.format(st.rankdata(x)[ind]))"
      ]
    },
    {
      "cell_type": "markdown",
      "metadata": {
        "id": "ctgfP-k3gbtR"
      },
      "source": [
        "## Построение cdf для подвыборки, содержащей только значения $>= 21.2$"
      ]
    },
    {
      "cell_type": "code",
      "execution_count": null,
      "metadata": {
        "id": "7gkStMoFgbtS"
      },
      "outputs": [],
      "source": [
        "plt.rcParams['figure.figsize'] = (8.0, 4.0)\n",
        "###########################################\n",
        "\n",
        "plt.hist(x, cumulative=True, label='Full data')\n",
        "plt.hist(x[x>=21.2], cumulative=True, label='$x>=21.2$')\n",
        "plt.legend(loc='best')\n",
        "plt.show()"
      ]
    },
    {
      "cell_type": "markdown",
      "metadata": {
        "id": "vbQYzPRGgbtS"
      },
      "source": [
        "## Выборочные оценки для подвыборки содержащей только значения $>=21.2$"
      ]
    },
    {
      "cell_type": "code",
      "execution_count": null,
      "metadata": {
        "id": "TUyojhfsgbtT"
      },
      "outputs": [],
      "source": [
        "np.mean(x[x>=21.2])"
      ]
    },
    {
      "cell_type": "markdown",
      "metadata": {
        "id": "zyh3AipzgbtT"
      },
      "source": [
        "```Ожидаемый ответ\n",
        "mean=29.001960784313727\n",
        "std=8.224008139636966, std=8.240181229279456\n",
        "median=25.0\n",
        "mode=ModeResult(mode=array([50.]), count=array([16]))\n",
        "maximum=50.0; (67)\n",
        "minimum=21.2; (16)\n",
        "q(0.5)=25.0\n",
        "размах=9.600000000000001```"
      ]
    }
  ],
  "metadata": {
    "celltoolbar": "Slideshow",
    "kernelspec": {
      "display_name": "Python 3",
      "language": "python",
      "name": "python3"
    },
    "language_info": {
      "codemirror_mode": {
        "name": "ipython",
        "version": 3
      },
      "file_extension": ".py",
      "mimetype": "text/x-python",
      "name": "python",
      "nbconvert_exporter": "python",
      "pygments_lexer": "ipython3",
      "version": "3.7.3"
    },
    "colab": {
      "provenance": []
    }
  },
  "nbformat": 4,
  "nbformat_minor": 0
}